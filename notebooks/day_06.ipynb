{
 "cells": [
  {
   "cell_type": "code",
   "execution_count": 1,
   "id": "582a7e77",
   "metadata": {},
   "outputs": [],
   "source": [
    "from src.utils import *"
   ]
  },
  {
   "cell_type": "code",
   "execution_count": 2,
   "id": "96f7967a",
   "metadata": {},
   "outputs": [],
   "source": [
    "puzzle_input = parse_puzzle_input(6)"
   ]
  },
  {
   "cell_type": "code",
   "execution_count": 62,
   "id": "7d32e255",
   "metadata": {},
   "outputs": [],
   "source": [
    "puzzle_input = puzzle_input[0]"
   ]
  },
  {
   "cell_type": "code",
   "execution_count": 5,
   "id": "f648ff27",
   "metadata": {},
   "outputs": [],
   "source": [
    "sample_input = '3,4,3,1,2'"
   ]
  },
  {
   "cell_type": "code",
   "execution_count": 6,
   "id": "8cac403c",
   "metadata": {},
   "outputs": [],
   "source": [
    "def str_to_lanternfish_dict(puzzle_input):\n",
    "    \n",
    "    lanternfish_list = [int(x) for x in puzzle_input.split(',')]\n",
    "    lanternfish_dict = {}\n",
    "    for fish in lanternfish_list:\n",
    "        if fish not in lanternfish_dict:\n",
    "            lanternfish_dict[fish] = 1\n",
    "        else:\n",
    "            lanternfish_dict[fish] += 1\n",
    "\n",
    "    return lanternfish_dict\n"
   ]
  },
  {
   "cell_type": "code",
   "execution_count": 17,
   "id": "f829fafb",
   "metadata": {},
   "outputs": [],
   "source": [
    "sample_lanternfish_dict = str_to_lanternfish_dict(sample_input)"
   ]
  },
  {
   "cell_type": "code",
   "execution_count": 13,
   "id": "3b14adf8",
   "metadata": {},
   "outputs": [],
   "source": [
    "def new_lanternfish(lanternfish_dict, n_new_fish, new_fish_timer = 8):\n",
    "\n",
    "    if new_fish_timer not in lanternfish_dict:\n",
    "        lanternfish_dict[new_fish_timer] = n_new_fish\n",
    "    else:\n",
    "        lanternfish_dict[new_fish_timer] += n_new_fish\n",
    "\n",
    "    return lanternfish_dict\n"
   ]
  },
  {
   "cell_type": "code",
   "execution_count": 56,
   "id": "7b37daec",
   "metadata": {},
   "outputs": [],
   "source": [
    "def age_lanternfish(lanternfish_dict, new_fish_timer = 8):\n",
    "\n",
    "    new_age_dict = {k: k-1 for k in range(new_fish_timer+1)}\n",
    "    new_age_dict[0] = 6\n",
    "\n",
    "    n_new_fish = lanternfish_dict[0] if 0 in lanternfish_dict else 0\n",
    "\n",
    "    new_fish_dict = {k: 0 for k in range(new_fish_timer+1)}\n",
    "\n",
    "    for fish_age in lanternfish_dict:\n",
    "        new_fish_dict[new_age_dict[fish_age]] += lanternfish_dict[fish_age]\n",
    "\n",
    "    if n_new_fish > 0:\n",
    "        new_fish_dict = new_lanternfish(new_fish_dict, n_new_fish, new_fish_timer)\n",
    "\n",
    "    return new_fish_dict"
   ]
  },
  {
   "cell_type": "code",
   "execution_count": 21,
   "id": "3d710c6f",
   "metadata": {},
   "outputs": [
    {
     "data": {
      "text/plain": [
       "{1: 2, 2: 1, 6: 1, 0: 1, 8: 1}"
      ]
     },
     "execution_count": 21,
     "metadata": {},
     "output_type": "execute_result"
    }
   ],
   "source": [
    "age_lanternfish(age_lanternfish(sample_lanternfish_dict))"
   ]
  },
  {
   "cell_type": "code",
   "execution_count": 28,
   "id": "85213b16",
   "metadata": {},
   "outputs": [],
   "source": [
    "def simulate_lanternfish(lanternfish_dict, n_days, new_fish_timer = 8):\n",
    "\n",
    "    for _ in range(n_days):\n",
    "\n",
    "        lanternfish_dict = age_lanternfish(lanternfish_dict, new_fish_timer)\n",
    "\n",
    "    return lanternfish_dict"
   ]
  },
  {
   "cell_type": "code",
   "execution_count": 58,
   "id": "3a848993",
   "metadata": {},
   "outputs": [],
   "source": [
    "def part_1_answer(puzzle_input, n_days, new_fish_timer = 8):\n",
    "\n",
    "    lanternfish_dict = str_to_lanternfish_dict(puzzle_input)\n",
    "\n",
    "    lanternfish_dict = simulate_lanternfish(lanternfish_dict, n_days, new_fish_timer)\n",
    "\n",
    "    return sum(list(lanternfish_dict.values()))"
   ]
  },
  {
   "cell_type": "code",
   "execution_count": 59,
   "id": "c4aa6aad",
   "metadata": {},
   "outputs": [
    {
     "data": {
      "text/plain": [
       "26"
      ]
     },
     "execution_count": 59,
     "metadata": {},
     "output_type": "execute_result"
    }
   ],
   "source": [
    "part_1_answer(sample_input, 18)"
   ]
  },
  {
   "cell_type": "code",
   "execution_count": 60,
   "id": "e69a528e",
   "metadata": {},
   "outputs": [
    {
     "data": {
      "text/plain": [
       "5934"
      ]
     },
     "execution_count": 60,
     "metadata": {},
     "output_type": "execute_result"
    }
   ],
   "source": [
    "part_1_answer(sample_input, 80)"
   ]
  },
  {
   "cell_type": "code",
   "execution_count": 63,
   "id": "f4d9a5f0",
   "metadata": {},
   "outputs": [
    {
     "data": {
      "text/plain": [
       "362740"
      ]
     },
     "execution_count": 63,
     "metadata": {},
     "output_type": "execute_result"
    }
   ],
   "source": [
    "part_1_answer(puzzle_input, 80)"
   ]
  },
  {
   "cell_type": "markdown",
   "id": "8031ed10",
   "metadata": {},
   "source": [
    "## Part 2"
   ]
  },
  {
   "cell_type": "code",
   "execution_count": 64,
   "id": "34806cd7",
   "metadata": {},
   "outputs": [
    {
     "data": {
      "text/plain": [
       "26984457539"
      ]
     },
     "execution_count": 64,
     "metadata": {},
     "output_type": "execute_result"
    }
   ],
   "source": [
    "part_1_answer(sample_input, 256)"
   ]
  },
  {
   "cell_type": "code",
   "execution_count": 65,
   "id": "ef230833",
   "metadata": {},
   "outputs": [
    {
     "data": {
      "text/plain": [
       "1644874076764"
      ]
     },
     "execution_count": 65,
     "metadata": {},
     "output_type": "execute_result"
    }
   ],
   "source": [
    "part_1_answer(puzzle_input, 256)"
   ]
  },
  {
   "cell_type": "code",
   "execution_count": null,
   "id": "2d696ad8",
   "metadata": {},
   "outputs": [],
   "source": []
  }
 ],
 "metadata": {
  "kernelspec": {
   "display_name": "Python 3",
   "language": "python",
   "name": "python3"
  },
  "language_info": {
   "codemirror_mode": {
    "name": "ipython",
    "version": 3
   },
   "file_extension": ".py",
   "mimetype": "text/x-python",
   "name": "python",
   "nbconvert_exporter": "python",
   "pygments_lexer": "ipython3",
   "version": "3.8.10"
  }
 },
 "nbformat": 4,
 "nbformat_minor": 5
}
