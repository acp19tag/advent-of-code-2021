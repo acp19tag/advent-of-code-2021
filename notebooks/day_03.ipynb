{
 "cells": [
  {
   "cell_type": "code",
   "execution_count": 1,
   "metadata": {},
   "outputs": [],
   "source": [
    "from src.utils import *"
   ]
  },
  {
   "cell_type": "code",
   "execution_count": 2,
   "metadata": {},
   "outputs": [],
   "source": [
    "puzzle_input = parse_puzzle_input(3)"
   ]
  },
  {
   "cell_type": "code",
   "execution_count": 3,
   "metadata": {},
   "outputs": [
    {
     "data": {
      "text/plain": [
       "['001110000001', '010100101000', '101101010010']"
      ]
     },
     "execution_count": 3,
     "metadata": {},
     "output_type": "execute_result"
    }
   ],
   "source": [
    "puzzle_input[:3]"
   ]
  },
  {
   "cell_type": "code",
   "execution_count": 4,
   "metadata": {},
   "outputs": [],
   "source": [
    "sample_input = [\n",
    "'00100',\n",
    "'11110',\n",
    "'10110',\n",
    "'10111',\n",
    "'10101',\n",
    "'01111',\n",
    "'00111',\n",
    "'11100',\n",
    "'10000',\n",
    "'11001',\n",
    "'00010',\n",
    "'01010'\n",
    "]"
   ]
  },
  {
   "cell_type": "code",
   "execution_count": 12,
   "metadata": {},
   "outputs": [],
   "source": [
    "def get_bit_count_dict(report):\n",
    "    \n",
    "    # start with an empty dict for counting\n",
    "    bit_count_dict = {\n",
    "        k: {\n",
    "            '0': 0, \n",
    "            '1': 0\n",
    "        } for k in range(len(report[0]))\n",
    "    }\n",
    "    \n",
    "    for binary_number in report:\n",
    "        \n",
    "        for index, bit in enumerate(binary_number):\n",
    "            \n",
    "            bit_count_dict[index][bit] += 1\n",
    "            \n",
    "    return bit_count_dict          \n",
    "            "
   ]
  },
  {
   "cell_type": "code",
   "execution_count": 32,
   "metadata": {},
   "outputs": [],
   "source": [
    "def find_gamma_rate(bit_count_dict):\n",
    "    \n",
    "    binary_rate = \"\".join([max(bit_count_dict[i], key=bit_count_dict[i].get) for i in bit_count_dict])\n",
    "    \n",
    "    return int(binary_rate, 2)"
   ]
  },
  {
   "cell_type": "code",
   "execution_count": 33,
   "metadata": {},
   "outputs": [],
   "source": [
    "def find_epsilon_rate(bit_count_dict):\n",
    "    \n",
    "    binary_rate = \"\".join([min(bit_count_dict[i], key=bit_count_dict[i].get) for i in bit_count_dict])\n",
    "    \n",
    "    return int(binary_rate, 2)"
   ]
  },
  {
   "cell_type": "code",
   "execution_count": 34,
   "metadata": {},
   "outputs": [],
   "source": [
    "def find_power_consumption(report):\n",
    "    \n",
    "    bit_count_dict = get_bit_count_dict(report)\n",
    "    \n",
    "    gamma = find_gamma_rate(bit_count_dict)\n",
    "    epsilon = find_epsilon_rate(bit_count_dict)\n",
    "    \n",
    "    return gamma * epsilon"
   ]
  },
  {
   "cell_type": "code",
   "execution_count": 35,
   "metadata": {},
   "outputs": [],
   "source": [
    "assert(find_power_consumption(sample_input) == 198)"
   ]
  },
  {
   "cell_type": "code",
   "execution_count": 36,
   "metadata": {},
   "outputs": [
    {
     "data": {
      "text/plain": [
       "2972336"
      ]
     },
     "execution_count": 36,
     "metadata": {},
     "output_type": "execute_result"
    }
   ],
   "source": [
    "find_power_consumption(puzzle_input)"
   ]
  },
  {
   "cell_type": "markdown",
   "metadata": {},
   "source": [
    "## Part 2"
   ]
  },
  {
   "cell_type": "code",
   "execution_count": 37,
   "metadata": {},
   "outputs": [],
   "source": [
    "def check_criteria(value, index, number):\n",
    "    return number[index] == value\n",
    "\n",
    "def filter_by_criteria(value, index, report):\n",
    "    filtered_list = []\n",
    "    for number in report:\n",
    "        if check_criteria(value, index, number):\n",
    "            filtered_list.append(number)\n",
    "    return filtered_list"
   ]
  },
  {
   "cell_type": "code",
   "execution_count": 50,
   "metadata": {},
   "outputs": [],
   "source": [
    "def find_most_common(count_dict):\n",
    "    if count_dict['0'] > count_dict['1']:\n",
    "        return '0'\n",
    "    return '1'\n",
    "\n",
    "def find_least_common(count_dict):\n",
    "    if count_dict['1'] < count_dict['0']:\n",
    "        return '1'\n",
    "    return '0'"
   ]
  },
  {
   "cell_type": "code",
   "execution_count": 54,
   "metadata": {},
   "outputs": [],
   "source": [
    "def find_o2_generator_rating(report):\n",
    "    number_pool = report\n",
    "    bit_len = len(report[0])\n",
    "    \n",
    "    for index in range(bit_len):\n",
    "        \n",
    "        if len(number_pool) > 1:\n",
    "        \n",
    "            bit_count_dict = get_bit_count_dict(number_pool)\n",
    "\n",
    "            identify_bit = find_most_common(bit_count_dict[index])\n",
    "\n",
    "            number_pool = filter_by_criteria(identify_bit, index, number_pool)\n",
    "        \n",
    "    return int(number_pool[0], 2)     \n",
    "        "
   ]
  },
  {
   "cell_type": "code",
   "execution_count": 55,
   "metadata": {},
   "outputs": [],
   "source": [
    "def find_co2_scrubber_rating(report):\n",
    "    number_pool = report\n",
    "    bit_len = len(report[0])\n",
    "    \n",
    "    for index in range(bit_len):\n",
    "        \n",
    "        if len(number_pool) > 1:\n",
    "        \n",
    "            bit_count_dict = get_bit_count_dict(number_pool)\n",
    "\n",
    "            identify_bit = find_least_common(bit_count_dict[index])\n",
    "\n",
    "            number_pool = filter_by_criteria(identify_bit, index, number_pool)\n",
    "        \n",
    "    return int(number_pool[0], 2)"
   ]
  },
  {
   "cell_type": "code",
   "execution_count": 58,
   "metadata": {},
   "outputs": [],
   "source": [
    "def find_life_support_rating(report):\n",
    "    return find_o2_generator_rating(report) * find_co2_scrubber_rating(report)"
   ]
  },
  {
   "cell_type": "code",
   "execution_count": 59,
   "metadata": {},
   "outputs": [
    {
     "data": {
      "text/plain": [
       "230"
      ]
     },
     "execution_count": 59,
     "metadata": {},
     "output_type": "execute_result"
    }
   ],
   "source": [
    "find_life_support_rating(sample_input)"
   ]
  },
  {
   "cell_type": "code",
   "execution_count": 60,
   "metadata": {},
   "outputs": [
    {
     "data": {
      "text/plain": [
       "3368358"
      ]
     },
     "execution_count": 60,
     "metadata": {},
     "output_type": "execute_result"
    }
   ],
   "source": [
    "find_life_support_rating(puzzle_input)"
   ]
  }
 ],
 "metadata": {
  "kernelspec": {
   "display_name": "Python 3",
   "language": "python",
   "name": "python3"
  },
  "language_info": {
   "codemirror_mode": {
    "name": "ipython",
    "version": 3
   },
   "file_extension": ".py",
   "mimetype": "text/x-python",
   "name": "python",
   "nbconvert_exporter": "python",
   "pygments_lexer": "ipython3",
   "version": "3.7.4"
  }
 },
 "nbformat": 4,
 "nbformat_minor": 5
}
