{
 "cells": [
  {
   "cell_type": "code",
   "execution_count": 67,
   "id": "582a7e77",
   "metadata": {},
   "outputs": [],
   "source": [
    "from src.utils import *\n",
    "from math import floor"
   ]
  },
  {
   "cell_type": "code",
   "execution_count": 2,
   "id": "96f7967a",
   "metadata": {},
   "outputs": [],
   "source": [
    "puzzle_input = parse_puzzle_input(10)"
   ]
  },
  {
   "cell_type": "code",
   "execution_count": 3,
   "id": "7d32e255",
   "metadata": {},
   "outputs": [
    {
     "data": {
      "text/plain": [
       "['[{<(<[<<(<{[[<[]{}><()[]>]]<(([]<>)<(){}>)({[]{}}([]()))>}>{{{<(()<>)[[]()]><(<>())[[]<>]>}{({()',\n",
       " '<<[{([[{{[[[({()()}[<>[]]){<<>[]>([]<>)}]{[{{}{}}<{}{}>]{{[]<>}{[]{}}}}][{{{(){}}<<>[]>}}]]}{',\n",
       " '([<{([<[([({[{[]{}}{{}{}}]}{[{<>{}}{(){}}]})[{[[(){}][(){}]]{<<>[]}{{}[]}}}]])]><({{{[[{{}{}}]<{<>']"
      ]
     },
     "execution_count": 3,
     "metadata": {},
     "output_type": "execute_result"
    }
   ],
   "source": [
    "puzzle_input[:3]"
   ]
  },
  {
   "cell_type": "code",
   "execution_count": 4,
   "id": "4deeb96e",
   "metadata": {},
   "outputs": [],
   "source": [
    "sample_input = [\n",
    "    '[({(<(())[]>[[{[]{<()<>>',\n",
    "    '[(()[<>])]({[<{<<[]>>(',\n",
    "    '{([(<{}[<>[]}>{[]{[(<()>',\n",
    "    '(((({<>}<{<{<>}{[]{[]{}',\n",
    "    '[[<[([]))<([[{}[[()]]]',\n",
    "    '[{[{({}]{}}([{[{{{}}([]',\n",
    "    '{<[[]]>}<{[{[{[]{()[[[]',\n",
    "    '[<(<(<(<{}))><([]([]()',\n",
    "    '<{([([[(<>()){}]>(<<{{',\n",
    "    '<{([{{}}[<[[[<>{}]]]>[]]'\n",
    "]"
   ]
  },
  {
   "cell_type": "code",
   "execution_count": 5,
   "id": "1509ca29",
   "metadata": {},
   "outputs": [],
   "source": [
    "def check_valid_close(open_char, close_char):\n",
    "\n",
    "    valid_closers = {\n",
    "        \"[\": \"]\",\n",
    "        \"(\": \")\",\n",
    "        \"{\": \"}\",\n",
    "        \"<\": \">\"\n",
    "    }\n",
    "\n",
    "    return close_char == valid_closers[open_char]"
   ]
  },
  {
   "cell_type": "code",
   "execution_count": 17,
   "id": "742dad7c",
   "metadata": {},
   "outputs": [],
   "source": [
    "def find_first_illegal_close(line_str):\n",
    "\n",
    "    rolling_open_character_list = []\n",
    "\n",
    "    for character in line_str:\n",
    "\n",
    "        if character in {\"(\",\"[\",\"{\",\"<\"}:\n",
    "\n",
    "            rolling_open_character_list.append(character)\n",
    "\n",
    "        elif character in {\")\", \"]\", \"}\", \">\"}:\n",
    "\n",
    "            if (\n",
    "                not rolling_open_character_list\n",
    "                or not check_valid_close(\n",
    "                    rolling_open_character_list[-1], character\n",
    "                )\n",
    "            ):\n",
    "\n",
    "                return character\n",
    "\n",
    "            else:\n",
    "\n",
    "                rolling_open_character_list = rolling_open_character_list[:-1]\n",
    "\n",
    "    return None"
   ]
  },
  {
   "cell_type": "code",
   "execution_count": 11,
   "id": "edd85b65",
   "metadata": {},
   "outputs": [],
   "source": [
    "def part_1_answer(puzzle_input):\n",
    "\n",
    "    scoring_dict = {\n",
    "        \")\": 3,\n",
    "        \"]\": 57,\n",
    "        \"}\": 1197,\n",
    "        \">\": 25137,\n",
    "        None: 0\n",
    "    }\n",
    "    \n",
    "    illegal_char_list = [find_first_illegal_close(line_str) for line_str in puzzle_input]\n",
    "    \n",
    "    scores = [scoring_dict[illegal_char] for illegal_char in illegal_char_list]\n",
    "\n",
    "    return sum(scores)\n",
    "\n"
   ]
  },
  {
   "cell_type": "code",
   "execution_count": 18,
   "id": "24d1d25d",
   "metadata": {},
   "outputs": [
    {
     "data": {
      "text/plain": [
       "26397"
      ]
     },
     "execution_count": 18,
     "metadata": {},
     "output_type": "execute_result"
    }
   ],
   "source": [
    "part_1_answer(sample_input)"
   ]
  },
  {
   "cell_type": "code",
   "execution_count": 19,
   "id": "68409939",
   "metadata": {},
   "outputs": [
    {
     "data": {
      "text/plain": [
       "319329"
      ]
     },
     "execution_count": 19,
     "metadata": {},
     "output_type": "execute_result"
    }
   ],
   "source": [
    "part_1_answer(puzzle_input)"
   ]
  },
  {
   "cell_type": "markdown",
   "id": "eba09609",
   "metadata": {},
   "source": [
    "## Part 2"
   ]
  },
  {
   "cell_type": "code",
   "execution_count": 20,
   "id": "3c21217c",
   "metadata": {},
   "outputs": [],
   "source": [
    "def find_incomplete_sequence(line_str):\n",
    "\n",
    "    rolling_open_character_list = []\n",
    "\n",
    "    for character in line_str:\n",
    "\n",
    "        if character in {\"(\",\"[\",\"{\",\"<\"}:\n",
    "\n",
    "            rolling_open_character_list.append(character)\n",
    "\n",
    "        elif character in {\")\", \"]\", \"}\", \">\"}:\n",
    "\n",
    "            if (\n",
    "                not rolling_open_character_list\n",
    "                or not check_valid_close(\n",
    "                    rolling_open_character_list[-1], character\n",
    "                )\n",
    "            ):\n",
    "\n",
    "                return None\n",
    "\n",
    "            else:\n",
    "\n",
    "                rolling_open_character_list = rolling_open_character_list[:-1]\n",
    "\n",
    "    return rolling_open_character_list"
   ]
  },
  {
   "cell_type": "code",
   "execution_count": 32,
   "id": "b2f3568b",
   "metadata": {},
   "outputs": [],
   "source": [
    "def generate_closing_characters(incomplete_sequence):\n",
    "\n",
    "    reversed_incomplete_sequence = incomplete_sequence\n",
    "    reversed_incomplete_sequence.reverse()\n",
    "\n",
    "    valid_closers = {\n",
    "        \"[\": \"]\",\n",
    "        \"(\": \")\",\n",
    "        \"{\": \"}\",\n",
    "        \"<\": \">\"\n",
    "    }\n",
    "\n",
    "    return [valid_closers[char] for char in reversed_incomplete_sequence]"
   ]
  },
  {
   "cell_type": "code",
   "execution_count": 28,
   "id": "2861cd25",
   "metadata": {},
   "outputs": [],
   "source": [
    "def score_completing_characters(completing_characters):\n",
    "\n",
    "    score_dict = {\n",
    "        \")\": 1,\n",
    "        \"]\": 2,\n",
    "        \"}\": 3,\n",
    "        \">\": 4\n",
    "    }\n",
    "\n",
    "    score = 0\n",
    "\n",
    "    for character in completing_characters:\n",
    "\n",
    "        score *= 5\n",
    "\n",
    "        score += score_dict[character]\n",
    "\n",
    "    return score"
   ]
  },
  {
   "cell_type": "code",
   "execution_count": 68,
   "id": "51a542fe",
   "metadata": {},
   "outputs": [],
   "source": [
    "def find_middle_score(score_list):\n",
    "\n",
    "    sorted_score_list = sorted(score_list)\n",
    "\n",
    "    return sorted_score_list[floor(len(sorted_score_list)/2)]"
   ]
  },
  {
   "cell_type": "code",
   "execution_count": 44,
   "id": "08f36843",
   "metadata": {},
   "outputs": [],
   "source": [
    "def part_2_answer(puzzle_input):\n",
    "\n",
    "    score_list = []\n",
    "\n",
    "    for line_str in puzzle_input:\n",
    "\n",
    "        incomplete_sequence = find_incomplete_sequence(line_str)\n",
    "\n",
    "        if incomplete_sequence:\n",
    "\n",
    "            closing_chars = generate_closing_characters(incomplete_sequence)\n",
    "            \n",
    "            score_list.append(score_completing_characters(closing_chars))\n",
    "\n",
    "    return find_middle_score(score_list)"
   ]
  },
  {
   "cell_type": "code",
   "execution_count": 69,
   "id": "e9530333",
   "metadata": {},
   "outputs": [
    {
     "data": {
      "text/plain": [
       "288957"
      ]
     },
     "execution_count": 69,
     "metadata": {},
     "output_type": "execute_result"
    }
   ],
   "source": [
    "part_2_answer(sample_input)"
   ]
  },
  {
   "cell_type": "code",
   "execution_count": 70,
   "id": "3fb18f1c",
   "metadata": {},
   "outputs": [
    {
     "data": {
      "text/plain": [
       "3515583998"
      ]
     },
     "execution_count": 70,
     "metadata": {},
     "output_type": "execute_result"
    }
   ],
   "source": [
    "part_2_answer(puzzle_input)"
   ]
  }
 ],
 "metadata": {
  "kernelspec": {
   "display_name": "Python 3",
   "language": "python",
   "name": "python3"
  },
  "language_info": {
   "codemirror_mode": {
    "name": "ipython",
    "version": 3
   },
   "file_extension": ".py",
   "mimetype": "text/x-python",
   "name": "python",
   "nbconvert_exporter": "python",
   "pygments_lexer": "ipython3",
   "version": "3.7.6"
  }
 },
 "nbformat": 4,
 "nbformat_minor": 5
}
