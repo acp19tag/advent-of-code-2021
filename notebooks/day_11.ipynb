{
 "cells": [
  {
   "cell_type": "code",
   "execution_count": 1,
   "id": "582a7e77",
   "metadata": {},
   "outputs": [],
   "source": [
    "from src.utils import *\n",
    "from math import sqrt"
   ]
  },
  {
   "cell_type": "code",
   "execution_count": 2,
   "id": "96f7967a",
   "metadata": {},
   "outputs": [],
   "source": [
    "puzzle_input = parse_puzzle_input(11)"
   ]
  },
  {
   "cell_type": "code",
   "execution_count": 3,
   "id": "7d32e255",
   "metadata": {},
   "outputs": [
    {
     "data": {
      "text/plain": [
       "['5665114554', '4882665427', '6185582113']"
      ]
     },
     "execution_count": 3,
     "metadata": {},
     "output_type": "execute_result"
    }
   ],
   "source": [
    "puzzle_input[:3]"
   ]
  },
  {
   "cell_type": "code",
   "execution_count": 4,
   "id": "cc10debb",
   "metadata": {},
   "outputs": [],
   "source": [
    "sample_input = [\n",
    "    '5483143223',\n",
    "    '2745854711',\n",
    "    '5264556173',\n",
    "    '6141336146',\n",
    "    '6357385478',\n",
    "    '4167524645',\n",
    "    '2176841721',\n",
    "    '6882881134',\n",
    "    '4846848554',\n",
    "    '5283751526'\n",
    "]"
   ]
  },
  {
   "cell_type": "code",
   "execution_count": 5,
   "id": "d57810a2",
   "metadata": {},
   "outputs": [],
   "source": [
    "sample_input_2 = [\n",
    "    '11111',\n",
    "    '19991',\n",
    "    '19191',\n",
    "    '19991',\n",
    "    '11111'\n",
    "]"
   ]
  },
  {
   "cell_type": "code",
   "execution_count": 6,
   "id": "88889719",
   "metadata": {},
   "outputs": [],
   "source": [
    "def initialise_octopuses(puzzle_input):\n",
    "\n",
    "    octopus_dict = {}\n",
    "\n",
    "    for x, row in enumerate(puzzle_input):\n",
    "\n",
    "        for y, energy in enumerate(row):\n",
    "\n",
    "            octopus_dict[(x, y)] = int(energy)\n",
    "\n",
    "    return octopus_dict"
   ]
  },
  {
   "cell_type": "code",
   "execution_count": 7,
   "id": "319aeab2",
   "metadata": {},
   "outputs": [],
   "source": [
    "def increase_energy(octopus_dict):\n",
    "\n",
    "    return {k: v + 1 for k, v in octopus_dict.items()}"
   ]
  },
  {
   "cell_type": "code",
   "execution_count": 8,
   "id": "4236c428",
   "metadata": {},
   "outputs": [],
   "source": [
    "def find_neighbour_coordinates(coordinate_tuple, octopus_dict):\n",
    "    neighbours = []\n",
    "    x, y = coordinate_tuple\n",
    "    for new_x in range(x - 1, x + 2):\n",
    "        for new_y in range(y - 1, y + 2):\n",
    "            if (new_x, new_y) != coordinate_tuple and (new_x, new_y) in octopus_dict:\n",
    "                neighbours.append((new_x, new_y))\n",
    "    return neighbours"
   ]
  },
  {
   "cell_type": "code",
   "execution_count": 9,
   "id": "08b3c5d7",
   "metadata": {},
   "outputs": [],
   "source": [
    "def increase_neighbour_energy(neighbour_list, octopus_dict):\n",
    "\n",
    "    new_dict = octopus_dict.copy()\n",
    "\n",
    "    for neighbour in neighbour_list:\n",
    "\n",
    "        new_dict[neighbour] += 1\n",
    "\n",
    "    return new_dict"
   ]
  },
  {
   "cell_type": "code",
   "execution_count": 28,
   "id": "db709309",
   "metadata": {},
   "outputs": [],
   "source": [
    "def observe_flashes(octopus_dict, flashes):\n",
    "\n",
    "    new_dict = octopus_dict.copy()\n",
    "\n",
    "    for coordinate in octopus_dict:\n",
    "\n",
    "        if octopus_dict[coordinate] > 9 and coordinate not in flashes:\n",
    "\n",
    "            flashes.add(coordinate)\n",
    "\n",
    "            neighbours = find_neighbour_coordinates(coordinate, octopus_dict)\n",
    "\n",
    "            # visualise_octopuses(octopus_dict)\n",
    "\n",
    "            new_dict = increase_neighbour_energy(neighbours, octopus_dict)\n",
    "\n",
    "            # visualise_octopuses(new_dict)\n",
    "\n",
    "            new_dict, flashes = observe_flashes(new_dict, flashes)\n",
    "\n",
    "    return new_dict, flashes"
   ]
  },
  {
   "cell_type": "code",
   "execution_count": 24,
   "id": "fd37f635",
   "metadata": {},
   "outputs": [],
   "source": [
    "def reset_octopuses(octopus_dict):\n",
    "\n",
    "    flash_count = 0\n",
    "    new_dict = octopus_dict.copy()\n",
    "\n",
    "    for coordinate in octopus_dict:\n",
    "\n",
    "        if octopus_dict[coordinate] > 9:\n",
    "\n",
    "            flash_count += 1\n",
    "            new_dict[coordinate] = 0\n",
    "\n",
    "    return new_dict, flash_count"
   ]
  },
  {
   "cell_type": "code",
   "execution_count": 29,
   "id": "60cbf521",
   "metadata": {},
   "outputs": [],
   "source": [
    "def simulate_step(octopus_dict):\n",
    "\n",
    "    updated_dict_1 = increase_energy(octopus_dict)\n",
    "\n",
    "    updated_dict_2, _ = observe_flashes(updated_dict_1, flashes=set())\n",
    "\n",
    "    updated_dict_3, flash_count = reset_octopuses(updated_dict_2)\n",
    "\n",
    "    return updated_dict_3, flash_count"
   ]
  },
  {
   "cell_type": "code",
   "execution_count": 20,
   "id": "db8cbac7",
   "metadata": {},
   "outputs": [],
   "source": [
    "def visualise_octopuses(octopus_dict):\n",
    "    row_col_len = int(sqrt(len(octopus_dict)))\n",
    "    for y in range(row_col_len):\n",
    "        row_str = \"\".join(str(octopus_dict[(x, y)]) for x in range(row_col_len))\n",
    "        print(row_str)\n",
    "    print()"
   ]
  },
  {
   "cell_type": "code",
   "execution_count": 40,
   "id": "2789866b",
   "metadata": {},
   "outputs": [],
   "source": [
    "def part_1_answer(puzzle_input, steps = 1):\n",
    "\n",
    "    octopus_dict = {}\n",
    "\n",
    "    octopus_dict = initialise_octopuses(puzzle_input)\n",
    "\n",
    "    total_flashes = 0\n",
    "\n",
    "    for _ in range(steps):\n",
    "\n",
    "        octopus_dict, flash_count = simulate_step(octopus_dict)\n",
    "\n",
    "        # print(f'flash count: {flash_count}')\n",
    "\n",
    "        # visualise_octopuses(octopus_dict)\n",
    "\n",
    "        total_flashes += flash_count\n",
    "\n",
    "    return total_flashes"
   ]
  },
  {
   "cell_type": "code",
   "execution_count": 41,
   "id": "2096c55b",
   "metadata": {},
   "outputs": [
    {
     "data": {
      "text/plain": [
       "204"
      ]
     },
     "execution_count": 41,
     "metadata": {},
     "output_type": "execute_result"
    }
   ],
   "source": [
    "part_1_answer(sample_input, 10)"
   ]
  },
  {
   "cell_type": "code",
   "execution_count": 42,
   "id": "605c0d5f",
   "metadata": {},
   "outputs": [
    {
     "data": {
      "text/plain": [
       "1656"
      ]
     },
     "execution_count": 42,
     "metadata": {},
     "output_type": "execute_result"
    }
   ],
   "source": [
    "part_1_answer(sample_input, 100)"
   ]
  },
  {
   "cell_type": "code",
   "execution_count": 43,
   "id": "7455859e",
   "metadata": {},
   "outputs": [
    {
     "data": {
      "text/plain": [
       "1617"
      ]
     },
     "execution_count": 43,
     "metadata": {},
     "output_type": "execute_result"
    }
   ],
   "source": [
    "part_1_answer(puzzle_input, 100)"
   ]
  },
  {
   "cell_type": "markdown",
   "id": "740c3571",
   "metadata": {},
   "source": [
    "## Part 2"
   ]
  },
  {
   "cell_type": "code",
   "execution_count": 44,
   "id": "85148c15",
   "metadata": {},
   "outputs": [],
   "source": [
    "def part_2_answer(puzzle_input):\n",
    "\n",
    "    octopus_dict = {}\n",
    "\n",
    "    octopus_dict = initialise_octopuses(puzzle_input)\n",
    "\n",
    "    step = 0\n",
    "    synchronised = False\n",
    "\n",
    "    while not synchronised:\n",
    "\n",
    "        step += 1\n",
    "\n",
    "        octopus_dict, flash_count = simulate_step(octopus_dict)\n",
    "        \n",
    "        if flash_count == len(octopus_dict):\n",
    "            synchronised = True\n",
    "\n",
    "    return step"
   ]
  },
  {
   "cell_type": "code",
   "execution_count": 45,
   "id": "04491375",
   "metadata": {},
   "outputs": [
    {
     "data": {
      "text/plain": [
       "195"
      ]
     },
     "execution_count": 45,
     "metadata": {},
     "output_type": "execute_result"
    }
   ],
   "source": [
    "part_2_answer(sample_input)"
   ]
  },
  {
   "cell_type": "code",
   "execution_count": 46,
   "id": "05f5b6ac",
   "metadata": {},
   "outputs": [
    {
     "data": {
      "text/plain": [
       "258"
      ]
     },
     "execution_count": 46,
     "metadata": {},
     "output_type": "execute_result"
    }
   ],
   "source": [
    "part_2_answer(puzzle_input)"
   ]
  }
 ],
 "metadata": {
  "kernelspec": {
   "display_name": "Python 3",
   "language": "python",
   "name": "python3"
  },
  "language_info": {
   "codemirror_mode": {
    "name": "ipython",
    "version": 3
   },
   "file_extension": ".py",
   "mimetype": "text/x-python",
   "name": "python",
   "nbconvert_exporter": "python",
   "pygments_lexer": "ipython3",
   "version": "3.7.6"
  }
 },
 "nbformat": 4,
 "nbformat_minor": 5
}
