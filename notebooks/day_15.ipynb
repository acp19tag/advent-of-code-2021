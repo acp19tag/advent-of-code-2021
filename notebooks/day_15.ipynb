{
 "cells": [
  {
   "cell_type": "code",
   "execution_count": 14,
   "metadata": {},
   "outputs": [],
   "source": [
    "from src.utils import *\n",
    "import networkx as nx\n",
    "\n",
    "import numpy as np\n",
    "import matplotlib.pyplot as plt"
   ]
  },
  {
   "cell_type": "code",
   "execution_count": 15,
   "metadata": {},
   "outputs": [],
   "source": [
    "puzzle_input = parse_puzzle_input(15)"
   ]
  },
  {
   "cell_type": "code",
   "execution_count": 16,
   "metadata": {},
   "outputs": [
    {
     "data": {
      "text/plain": [
       "['1195699269169962618115739279199143968185692172285182183566221795877116121863721498957174621167918242',\n",
       " '9115625874265799911728162199785394821312124845672192542919338584962177612992393151111933224334135452',\n",
       " '8131729216517615863391649615129757111193739768481218915512112595941796747611211317938536136799846916']"
      ]
     },
     "execution_count": 16,
     "metadata": {},
     "output_type": "execute_result"
    }
   ],
   "source": [
    "puzzle_input[:3]"
   ]
  },
  {
   "cell_type": "code",
   "execution_count": 17,
   "metadata": {},
   "outputs": [],
   "source": [
    "sample_input = [\n",
    "    '1163751742',\n",
    "    '1381373672',\n",
    "    '2136511328',\n",
    "    '3694931569',\n",
    "    '7463417111',\n",
    "    '1319128137',\n",
    "    '1359912421',\n",
    "    '3125421639',\n",
    "    '1293138521',\n",
    "    '2311944581'\n",
    "]"
   ]
  },
  {
   "cell_type": "code",
   "execution_count": 18,
   "metadata": {},
   "outputs": [],
   "source": [
    "def generate_coordinate_dict(puzzle_input):\n",
    "    \n",
    "    coordinate_dict = {}\n",
    "    for y, line in enumerate(puzzle_input):\n",
    "        for x, weight in enumerate(line):\n",
    "            coordinate_dict[(x, y)] = int(weight)\n",
    "    return coordinate_dict"
   ]
  },
  {
   "cell_type": "code",
   "execution_count": 19,
   "metadata": {},
   "outputs": [],
   "source": [
    "sample_coordinate_dict = generate_coordinate_dict(sample_input)"
   ]
  },
  {
   "cell_type": "code",
   "execution_count": 20,
   "metadata": {},
   "outputs": [],
   "source": [
    "def find_neighbours(coordinate, coordinate_dict):\n",
    "    \n",
    "    x, y = coordinate\n",
    "    all_neighbours = [\n",
    "        (x + 1, y),\n",
    "        (x - 1, y),\n",
    "        (x, y + 1),\n",
    "        (x, y - 1)\n",
    "    ]\n",
    "    \n",
    "    return [neighbour for neighbour in all_neighbours if neighbour in coordinate_dict]"
   ]
  },
  {
   "cell_type": "code",
   "execution_count": 29,
   "metadata": {},
   "outputs": [],
   "source": [
    "def generate_graph_network(coordinate_dict):\n",
    "    \n",
    "    graph = nx.DiGraph()\n",
    "    \n",
    "    for coordinate in coordinate_dict:\n",
    "        for neighbour in find_neighbours(coordinate, coordinate_dict):\n",
    "            \n",
    "            graph.add_edge(coordinate, neighbour, risk = coordinate_dict[neighbour])\n",
    "            \n",
    "    return graph"
   ]
  },
  {
   "cell_type": "code",
   "execution_count": 22,
   "metadata": {},
   "outputs": [],
   "source": [
    "def find_top_left_bottom_right(coordinate_dict):\n",
    "    x_all = [i[0] for i in list(coordinate_dict.keys())]\n",
    "    y_all = [i[1] for i in list(coordinate_dict.keys())]\n",
    "    \n",
    "    return (min(x_all), min(y_all)), (max(x_all), max(y_all))"
   ]
  },
  {
   "cell_type": "code",
   "execution_count": 74,
   "metadata": {},
   "outputs": [],
   "source": [
    "def show_solution(path_coordinates, coordinate_dict):\n",
    "    \n",
    "    _, max_coordinates = find_top_left_bottom_right(coordinate_dict)\n",
    "    \n",
    "    max_x, max_y = max_coordinates\n",
    "    \n",
    "    fig, ax = plt.subplots()\n",
    "\n",
    "    for x in range(max_x + 1):\n",
    "        for y in range(max_y + 1):\n",
    "            c = coordinate_dict[(x, max_y - y)]\n",
    "            \n",
    "            backgroundcolor = 'white'\n",
    "            if (x, max_y - y) in path_coordinates:\n",
    "                backgroundcolor = 'lawngreen'\n",
    "            \n",
    "            ax.text(x+0.5, y+0.5, str(c), va='center', ha='center', backgroundcolor = backgroundcolor)\n",
    "\n",
    "    ax.set_xlim(0, max_x + 1)\n",
    "    ax.set_ylim(0, max_y + 1)\n",
    "    ax.set_xticks(np.arange(max_x+1))\n",
    "    ax.set_yticks(np.arange(max_y+1))\n",
    "    ax.set_yticklabels(np.arange(max_y+1)[::-1])\n",
    "    ax.grid()"
   ]
  },
  {
   "cell_type": "code",
   "execution_count": 24,
   "metadata": {},
   "outputs": [],
   "source": [
    "def part_1_answer(puzzle_input):\n",
    "    \n",
    "    coordinate_dict = generate_coordinate_dict(puzzle_input)\n",
    "    \n",
    "    graph = generate_graph_network(coordinate_dict)\n",
    "    \n",
    "    top_left, bottom_right = find_top_left_bottom_right(coordinate_dict)\n",
    "    \n",
    "    path = nx.shortest_path(graph, top_left, bottom_right, weight = 'risk')\n",
    "    \n",
    "    show_solution(path, coordinate_dict)\n",
    "    \n",
    "    return sum([coordinate_dict[step] for step in path if step is not top_left])"
   ]
  },
  {
   "cell_type": "code",
   "execution_count": 30,
   "metadata": {},
   "outputs": [
    {
     "data": {
      "text/plain": [
       "40"
      ]
     },
     "execution_count": 30,
     "metadata": {},
     "output_type": "execute_result"
    },
    {
     "data": {
      "image/png": "[encoded data removed]",
      "text/plain": [
       "<Figure size 432x288 with 1 Axes>"
      ]
     },
     "metadata": {
      "needs_background": "light"
     },
     "output_type": "display_data"
    }
   ],
   "source": [
    "part_1_answer(sample_input)"
   ]
  },
  {
   "cell_type": "code",
   "execution_count": 31,
   "metadata": {},
   "outputs": [
    {
     "data": {
      "text/plain": [
       "423"
      ]
     },
     "execution_count": 31,
     "metadata": {},
     "output_type": "execute_result"
    },
    {
     "data": {
      "image/png": "[encoded data removed]",
      "text/plain": [
       "<Figure size 432x288 with 1 Axes>"
      ]
     },
     "metadata": {
      "needs_background": "light"
     },
     "output_type": "display_data"
    }
   ],
   "source": [
    "part_1_answer(puzzle_input)"
   ]
  },
  {
   "cell_type": "markdown",
   "metadata": {},
   "source": [
    "## Part 2"
   ]
  },
  {
   "cell_type": "code",
   "execution_count": 66,
   "metadata": {},
   "outputs": [],
   "source": [
    "def find_new_risk(old_risk, multiplier_value):\n",
    "    \n",
    "    num_list = [i for i in range(1,10)]\n",
    "    \n",
    "    new_risk = old_risk\n",
    "    \n",
    "    for _ in range(multiplier_value):\n",
    "        new_risk = num_list[new_risk % 9]\n",
    "        \n",
    "    return new_risk\n",
    "    "
   ]
  },
  {
   "cell_type": "code",
   "execution_count": 107,
   "metadata": {},
   "outputs": [],
   "source": [
    "def generate_large_map(coordinate_dict, multiplier=5):\n",
    "    \n",
    "    large_coordinate_dict = coordinate_dict.copy()\n",
    "    \n",
    "    _, max_coordinates = find_top_left_bottom_right(coordinate_dict)\n",
    "    \n",
    "    max_x, max_y = max_coordinates\n",
    "    \n",
    "    multiplier_dict = {}\n",
    "    for x in range(multiplier+1):\n",
    "        for y in range(multiplier+1):\n",
    "            multiplier_dict[(x, y)] = x + y\n",
    "    \n",
    "    for multiplier in multiplier_dict:\n",
    "        \n",
    "        if multiplier is not (0, 0):\n",
    "            x_add = multiplier[0] * (max_x + 1)\n",
    "            y_add = multiplier[1] * (max_y + 1)\n",
    "        \n",
    "            for coordinate in coordinate_dict:\n",
    "                              \n",
    "                x, y = coordinate\n",
    "                \n",
    "                large_coordinate_dict[(x + x_add, y + y_add)] = find_new_risk(coordinate_dict[coordinate], multiplier_dict[multiplier])\n",
    "\n",
    "    return large_coordinate_dict"
   ]
  },
  {
   "cell_type": "code",
   "execution_count": 113,
   "metadata": {},
   "outputs": [],
   "source": [
    "def part_2_answer(puzzle_input):\n",
    "    \n",
    "    coordinate_dict = generate_coordinate_dict(puzzle_input)\n",
    "    \n",
    "    large_coordinate_dict = generate_large_map(coordinate_dict, multiplier=4)\n",
    "    \n",
    "    graph = generate_graph_network(large_coordinate_dict)\n",
    "    \n",
    "    top_left, bottom_right = find_top_left_bottom_right(large_coordinate_dict)\n",
    "    \n",
    "    path = nx.shortest_path(graph, top_left, bottom_right, weight = 'risk')\n",
    "    \n",
    "    return sum([large_coordinate_dict[step] for step in path if step is not top_left])"
   ]
  },
  {
   "cell_type": "code",
   "execution_count": 115,
   "metadata": {},
   "outputs": [
    {
     "data": {
      "text/plain": [
       "315"
      ]
     },
     "execution_count": 115,
     "metadata": {},
     "output_type": "execute_result"
    }
   ],
   "source": [
    "part_2_answer(sample_input)"
   ]
  },
  {
   "cell_type": "code",
   "execution_count": 116,
   "metadata": {},
   "outputs": [
    {
     "data": {
      "text/plain": [
       "2778"
      ]
     },
     "execution_count": 116,
     "metadata": {},
     "output_type": "execute_result"
    }
   ],
   "source": [
    "part_2_answer(puzzle_input)"
   ]
  }
 ],
 "metadata": {
  "kernelspec": {
   "display_name": "Python 3.7.6 64-bit ('base': conda)",
   "language": "python",
   "name": "python376jvsc74a57bd035455d277cc69279d69bd3d2fff07608906c78ad9fde0fa493e6ee7e737d810e"
  },
  "language_info": {
   "codemirror_mode": {
    "name": "ipython",
    "version": 3
   },
   "file_extension": ".py",
   "mimetype": "text/x-python",
   "name": "python",
   "nbconvert_exporter": "python",
   "pygments_lexer": "ipython3",
   "version": "3.7.6"
  }
 },
 "nbformat": 4,
 "nbformat_minor": 5
}
