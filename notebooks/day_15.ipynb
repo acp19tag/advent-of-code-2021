{
 "cells": [
  {
   "cell_type": "code",
   "execution_count": 1,
   "id": "582a7e77",
   "metadata": {},
   "outputs": [],
   "source": [
    "from src.utils import *"
   ]
  },
  {
   "cell_type": "code",
   "execution_count": 2,
   "id": "96f7967a",
   "metadata": {},
   "outputs": [],
   "source": [
    "puzzle_input = parse_puzzle_input(15)"
   ]
  },
  {
   "cell_type": "code",
   "execution_count": 3,
   "id": "7d32e255",
   "metadata": {},
   "outputs": [
    {
     "data": {
      "text/plain": [
       "['1195699269169962618115739279199143968185692172285182183566221795877116121863721498957174621167918242',\n",
       " '9115625874265799911728162199785394821312124845672192542919338584962177612992393151111933224334135452',\n",
       " '8131729216517615863391649615129757111193739768481218915512112595941796747611211317938536136799846916']"
      ]
     },
     "execution_count": 3,
     "metadata": {},
     "output_type": "execute_result"
    }
   ],
   "source": [
    "puzzle_input[:3]"
   ]
  },
  {
   "cell_type": "code",
   "execution_count": 4,
   "id": "877729d1",
   "metadata": {},
   "outputs": [],
   "source": [
    "sample_input = [\n",
    "    '1163751742',\n",
    "    '1381373672',\n",
    "    '2136511328',\n",
    "    '3694931569',\n",
    "    '7463417111',\n",
    "    '1319128137',\n",
    "    '1359912421',\n",
    "    '3125421639',\n",
    "    '1293138521',\n",
    "    '2311944581'\n",
    "]"
   ]
  },
  {
   "cell_type": "code",
   "execution_count": null,
   "id": "af3a335d",
   "metadata": {},
   "outputs": [],
   "source": []
  }
 ],
 "metadata": {
  "kernelspec": {
   "display_name": "Python 3",
   "language": "python",
   "name": "python3"
  },
  "language_info": {
   "codemirror_mode": {
    "name": "ipython",
    "version": 3
   },
   "file_extension": ".py",
   "mimetype": "text/x-python",
   "name": "python",
   "nbconvert_exporter": "python",
   "pygments_lexer": "ipython3",
   "version": "3.7.4"
  }
 },
 "nbformat": 4,
 "nbformat_minor": 5
}
