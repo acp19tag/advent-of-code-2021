{
 "cells": [
  {
   "cell_type": "code",
   "execution_count": 1,
   "id": "582a7e77",
   "metadata": {},
   "outputs": [],
   "source": [
    "from src.utils import *"
   ]
  },
  {
   "cell_type": "code",
   "execution_count": 43,
   "id": "96f7967a",
   "metadata": {},
   "outputs": [],
   "source": [
    "puzzle_input = parse_puzzle_input(1)\n",
    "puzzle_input = [int(x) for x in puzzle_input]"
   ]
  },
  {
   "cell_type": "code",
   "execution_count": 44,
   "id": "cdecf7de",
   "metadata": {},
   "outputs": [
    {
     "name": "stdout",
     "output_type": "stream",
     "text": [
      "2000\n"
     ]
    }
   ],
   "source": [
    "print(len(puzzle_input))"
   ]
  },
  {
   "cell_type": "code",
   "execution_count": 45,
   "id": "7d32e255",
   "metadata": {},
   "outputs": [
    {
     "name": "stdout",
     "output_type": "stream",
     "text": [
      "[124, 125, 127]\n",
      "\n",
      "[8551, 8563, 8564]\n"
     ]
    }
   ],
   "source": [
    "print(puzzle_input[:3])\n",
    "print()\n",
    "print(puzzle_input[-3:])"
   ]
  },
  {
   "cell_type": "code",
   "execution_count": 4,
   "id": "d22df7df",
   "metadata": {},
   "outputs": [],
   "source": [
    "test_input = [\n",
    "    199,\n",
    "    200,\n",
    "    208,\n",
    "    210,\n",
    "    200,\n",
    "    207,\n",
    "    240,\n",
    "    269,\n",
    "    260,\n",
    "    263\n",
    "]"
   ]
  },
  {
   "cell_type": "code",
   "execution_count": 5,
   "id": "62afc91d",
   "metadata": {},
   "outputs": [],
   "source": [
    "def check_difference(a, b):\n",
    "    if a < b:\n",
    "        return \"increased\"\n",
    "    elif a > b:\n",
    "        return \"decreased\"\n",
    "    else: \n",
    "        return \"same\""
   ]
  },
  {
   "cell_type": "code",
   "execution_count": 20,
   "id": "4bb55484",
   "metadata": {},
   "outputs": [],
   "source": [
    "def count_changes(measurement_list):\n",
    "    change_counter = {k: 0 for k in [\"increased\", \"decreased\", \"same\"]}\n",
    "    for index, item in enumerate(measurement_list):\n",
    "        if index > 0:\n",
    "            prev_item = measurement_list[index-1]\n",
    "            change_counter[check_difference(prev_item, item)] += 1\n",
    "            # print(f'current: {item}\\t previous: {prev_item}\\t change: {check_difference(prev_item, item)}')\n",
    "    return change_counter\n"
   ]
  },
  {
   "cell_type": "code",
   "execution_count": 46,
   "id": "dedd58dc",
   "metadata": {},
   "outputs": [],
   "source": [
    "def count_increases(measurement_list):\n",
    "    return sum(\n",
    "        measurement_list[i] > measurement_list[i - 1]\n",
    "        for i in range(1, len(measurement_list))\n",
    "    )"
   ]
  },
  {
   "cell_type": "code",
   "execution_count": 41,
   "id": "97734f7a",
   "metadata": {},
   "outputs": [],
   "source": [
    "assert(count_increases(test_input) == 7)"
   ]
  },
  {
   "cell_type": "code",
   "execution_count": 42,
   "id": "3807a5e2",
   "metadata": {},
   "outputs": [
    {
     "data": {
      "text/plain": [
       "1559"
      ]
     },
     "execution_count": 42,
     "metadata": {},
     "output_type": "execute_result"
    }
   ],
   "source": [
    "count_increases(puzzle_input)"
   ]
  },
  {
   "cell_type": "code",
   "execution_count": 47,
   "id": "91c5f275",
   "metadata": {},
   "outputs": [],
   "source": [
    "# part 2"
   ]
  },
  {
   "cell_type": "code",
   "execution_count": 50,
   "id": "03fa43a7",
   "metadata": {},
   "outputs": [],
   "source": [
    "def check_valid_window(index, measurement_list):\n",
    "    return index > 2 and index < (measurement_list - 2)"
   ]
  },
  {
   "cell_type": "code",
   "execution_count": 54,
   "id": "e6d42203",
   "metadata": {},
   "outputs": [],
   "source": [
    "def sum_window(index, measurement_list, window_size):\n",
    "    return sum(\n",
    "        [\n",
    "            measurement_list[index],\n",
    "            measurement_list[index - 1],\n",
    "            measurement_list[index - 2],\n",
    "        ]\n",
    "    )"
   ]
  },
  {
   "cell_type": "code",
   "execution_count": 57,
   "id": "ac0c0d36",
   "metadata": {},
   "outputs": [],
   "source": [
    "def get_window_sum_list(measurement_list, window_size=3):\n",
    "    window_sum_list = []\n",
    "    for i in range(2, len(measurement_list)):\n",
    "        window_sum_list.append(sum_window(i, measurement_list, window_size))\n",
    "    return window_sum_list\n"
   ]
  },
  {
   "cell_type": "code",
   "execution_count": 60,
   "id": "9435ee1b",
   "metadata": {},
   "outputs": [],
   "source": [
    "assert(count_increases(get_window_sum_list(test_input)) == 5)"
   ]
  },
  {
   "cell_type": "code",
   "execution_count": 61,
   "id": "9086fa2a",
   "metadata": {},
   "outputs": [
    {
     "data": {
      "text/plain": [
       "1600"
      ]
     },
     "execution_count": 61,
     "metadata": {},
     "output_type": "execute_result"
    }
   ],
   "source": [
    "count_increases(get_window_sum_list(puzzle_input))"
   ]
  }
 ],
 "metadata": {
  "kernelspec": {
   "display_name": "Python 3",
   "language": "python",
   "name": "python3"
  },
  "language_info": {
   "codemirror_mode": {
    "name": "ipython",
    "version": 3
   },
   "file_extension": ".py",
   "mimetype": "text/x-python",
   "name": "python",
   "nbconvert_exporter": "python",
   "pygments_lexer": "ipython3",
   "version": "3.7.3"
  }
 },
 "nbformat": 4,
 "nbformat_minor": 5
}
