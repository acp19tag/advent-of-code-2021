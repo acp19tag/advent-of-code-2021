{
 "cells": [
  {
   "cell_type": "code",
   "execution_count": 1,
   "id": "582a7e77",
   "metadata": {},
   "outputs": [],
   "source": [
    "from src.utils import *"
   ]
  },
  {
   "cell_type": "code",
   "execution_count": 2,
   "id": "96f7967a",
   "metadata": {},
   "outputs": [],
   "source": [
    "puzzle_input = parse_puzzle_input(1)"
   ]
  },
  {
   "cell_type": "code",
   "execution_count": 3,
   "id": "7d32e255",
   "metadata": {},
   "outputs": [
    {
     "data": {
      "text/plain": [
       "['124', '125', '127']"
      ]
     },
     "execution_count": 3,
     "metadata": {},
     "output_type": "execute_result"
    }
   ],
   "source": [
    "puzzle_input[:3]"
   ]
  },
  {
   "cell_type": "code",
   "execution_count": 4,
   "id": "d22df7df",
   "metadata": {},
   "outputs": [],
   "source": [
    "test_input = [\n",
    "    199,\n",
    "    200,\n",
    "    208,\n",
    "    210,\n",
    "    200,\n",
    "    207,\n",
    "    240,\n",
    "    269,\n",
    "    260,\n",
    "    263\n",
    "]"
   ]
  },
  {
   "cell_type": "code",
   "execution_count": 5,
   "id": "62afc91d",
   "metadata": {},
   "outputs": [],
   "source": [
    "def check_difference(a, b):\n",
    "    if a < b:\n",
    "        return \"increased\"\n",
    "    elif a > b:\n",
    "        return \"decreased\"\n",
    "    else: \n",
    "        return \"same\""
   ]
  },
  {
   "cell_type": "code",
   "execution_count": 9,
   "id": "4bb55484",
   "metadata": {},
   "outputs": [],
   "source": [
    "def count_changes(list):\n",
    "    change_counter = {k: 0 for k in [\"increased\", \"decreased\", \"same\"]}\n",
    "    for index, item in enumerate(list):\n",
    "        if index > 0:\n",
    "            prev_item = list[index-1]\n",
    "            change_counter[check_difference(prev_item, item)] += 1\n",
    "    return change_counter\n"
   ]
  },
  {
   "cell_type": "code",
   "execution_count": 12,
   "id": "5c29dda8",
   "metadata": {},
   "outputs": [],
   "source": [
    "assert(count_changes(test_input)[\"increased\"] == 7)"
   ]
  },
  {
   "cell_type": "code",
   "execution_count": 13,
   "id": "997b511a",
   "metadata": {},
   "outputs": [
    {
     "data": {
      "text/plain": [
       "{'increased': 1558, 'decreased': 441, 'same': 0}"
      ]
     },
     "execution_count": 13,
     "metadata": {},
     "output_type": "execute_result"
    }
   ],
   "source": [
    "count_changes(puzzle_input)"
   ]
  },
  {
   "cell_type": "code",
   "execution_count": 19,
   "id": "bffa04a3",
   "metadata": {},
   "outputs": [
    {
     "data": {
      "text/plain": [
       "'124'"
      ]
     },
     "execution_count": 19,
     "metadata": {},
     "output_type": "execute_result"
    }
   ],
   "source": []
  },
  {
   "cell_type": "code",
   "execution_count": 17,
   "id": "97734f7a",
   "metadata": {},
   "outputs": [
    {
     "data": {
      "text/plain": [
       "{'increased': 7, 'decreased': 2, 'same': 0}"
      ]
     },
     "execution_count": 17,
     "metadata": {},
     "output_type": "execute_result"
    }
   ],
   "source": [
    "count_changes(test_input)"
   ]
  },
  {
   "cell_type": "code",
   "execution_count": null,
   "id": "3807a5e2",
   "metadata": {},
   "outputs": [],
   "source": []
  }
 ],
 "metadata": {
  "kernelspec": {
   "display_name": "Python 3",
   "language": "python",
   "name": "python3"
  },
  "language_info": {
   "codemirror_mode": {
    "name": "ipython",
    "version": 3
   },
   "file_extension": ".py",
   "mimetype": "text/x-python",
   "name": "python",
   "nbconvert_exporter": "python",
   "pygments_lexer": "ipython3",
   "version": "3.9.1"
  }
 },
 "nbformat": 4,
 "nbformat_minor": 5
}
