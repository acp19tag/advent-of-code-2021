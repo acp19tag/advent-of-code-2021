{
 "cells": [
  {
   "cell_type": "code",
   "execution_count": 2,
   "id": "582a7e77",
   "metadata": {},
   "outputs": [],
   "source": [
    "from src.utils import *"
   ]
  },
  {
   "cell_type": "code",
   "execution_count": 3,
   "id": "96f7967a",
   "metadata": {},
   "outputs": [],
   "source": [
    "puzzle_input = parse_puzzle_input(12)"
   ]
  },
  {
   "cell_type": "code",
   "execution_count": 4,
   "id": "7d32e255",
   "metadata": {},
   "outputs": [
    {
     "data": {
      "text/plain": [
       "['FK-gc', 'gc-start', 'gc-dw']"
      ]
     },
     "execution_count": 4,
     "metadata": {},
     "output_type": "execute_result"
    }
   ],
   "source": [
    "puzzle_input[:3]"
   ]
  },
  {
   "cell_type": "code",
   "execution_count": 5,
   "id": "e1f5143e",
   "metadata": {},
   "outputs": [],
   "source": [
    "sample_input = [\n",
    "    'start-A',\n",
    "    'start-b',\n",
    "    'A-c',\n",
    "    'A-b',\n",
    "    'b-d',\n",
    "    'A-end',\n",
    "    'b-end',\n",
    "]"
   ]
  },
  {
   "cell_type": "code",
   "execution_count": 6,
   "id": "1725b03d",
   "metadata": {},
   "outputs": [],
   "source": [
    "sample_input_2 = [\n",
    "    'dc-end',\n",
    "    'HN-start',\n",
    "    'start-kj',\n",
    "    'dc-start',\n",
    "    'dc-HN',\n",
    "    'LN-dc',\n",
    "    'HN-end',\n",
    "    'kj-sa',\n",
    "    'kj-HN',\n",
    "    'kj-dc',\n",
    "]"
   ]
  },
  {
   "cell_type": "code",
   "execution_count": 7,
   "id": "396a606f",
   "metadata": {},
   "outputs": [],
   "source": [
    "sample_input_3 = [\n",
    "    'fs-end',\n",
    "    'he-DX',\n",
    "    'fs-he',\n",
    "    'start-DX',\n",
    "    'pj-DX',\n",
    "    'end-zg',\n",
    "    'zg-sl',\n",
    "    'zg-pj',\n",
    "    'pj-he',\n",
    "    'RW-he',\n",
    "    'fs-DX',\n",
    "    'pj-RW',\n",
    "    'zg-RW',\n",
    "    'start-pj',\n",
    "    'he-WI',\n",
    "    'zg-he',\n",
    "    'pj-fs',\n",
    "    'start-RW',\n",
    "]"
   ]
  },
  {
   "cell_type": "code",
   "execution_count": 12,
   "id": "19324794",
   "metadata": {},
   "outputs": [],
   "source": [
    "def add_route_to_dict(a, b, route_dict):\n",
    "\n",
    "    if a not in route_dict:\n",
    "        route_dict[a] = {b}\n",
    "    else: \n",
    "        route_dict[a].add(b)\n",
    "\n",
    "    if b not in route_dict:\n",
    "        route_dict[b] = {a}\n",
    "    else: \n",
    "        route_dict[b].add(a)\n",
    "\n",
    "    return route_dict"
   ]
  },
  {
   "cell_type": "code",
   "execution_count": 13,
   "id": "2c732da0",
   "metadata": {},
   "outputs": [],
   "source": [
    "def generate_route_dict(puzzle_input):\n",
    "\n",
    "    route_dict = {}\n",
    "\n",
    "    for route in puzzle_input:\n",
    "\n",
    "        a, b = route.split('-')\n",
    "\n",
    "        route_dict = add_route_to_dict(a, b, route_dict)\n",
    "\n",
    "    return route_dict"
   ]
  },
  {
   "cell_type": "code",
   "execution_count": 84,
   "id": "b4e146eb",
   "metadata": {},
   "outputs": [],
   "source": [
    "def find_nodes_to_ignore(visited_list):\n",
    "\n",
    "    return {x for x in visited_list if not x.isupper() and x not in {'end'}}"
   ]
  },
  {
   "cell_type": "code",
   "execution_count": 161,
   "id": "509466b4",
   "metadata": {},
   "outputs": [],
   "source": [
    "def find_valid_paths(node, visited_list, route_dict):\n",
    "\n",
    "    if node == 'end': \n",
    "        # print(visited_list)\n",
    "        return 1\n",
    "\n",
    "    if node not in route_dict:\n",
    "        return 0\n",
    "\n",
    "    valid_route_count = 0\n",
    "\n",
    "    ignore = find_nodes_to_ignore(visited_list)\n",
    "    \n",
    "    potential_next_nodes = [next_node for next_node in route_dict[node] if next_node not in ignore]\n",
    "\n",
    "    # print(f'node: {node}, next nodes: {potential_next_nodes}')\n",
    "\n",
    "    for next_node in potential_next_nodes:\n",
    "\n",
    "        new_visited_list = visited_list.copy()\n",
    "        \n",
    "        if next_node not in ignore:\n",
    "\n",
    "            new_visited_list.append(next_node)\n",
    "            \n",
    "            valid_route_count += find_valid_paths(next_node, new_visited_list, route_dict)\n",
    "        \n",
    "    return valid_route_count\n",
    "\n",
    "\n"
   ]
  },
  {
   "cell_type": "code",
   "execution_count": 146,
   "id": "2f0f34cf",
   "metadata": {},
   "outputs": [],
   "source": [
    "def part_1_answer(puzzle_input):\n",
    "\n",
    "    route_dict = generate_route_dict(puzzle_input)\n",
    "\n",
    "    return find_valid_paths('start', ['start'], route_dict)"
   ]
  },
  {
   "cell_type": "code",
   "execution_count": 147,
   "id": "18cc00ed",
   "metadata": {},
   "outputs": [
    {
     "data": {
      "text/plain": [
       "10"
      ]
     },
     "execution_count": 147,
     "metadata": {},
     "output_type": "execute_result"
    }
   ],
   "source": [
    "part_1_answer(sample_input)"
   ]
  },
  {
   "cell_type": "code",
   "execution_count": 148,
   "id": "2965461f",
   "metadata": {},
   "outputs": [
    {
     "data": {
      "text/plain": [
       "19"
      ]
     },
     "execution_count": 148,
     "metadata": {},
     "output_type": "execute_result"
    }
   ],
   "source": [
    "part_1_answer(sample_input_2)"
   ]
  },
  {
   "cell_type": "code",
   "execution_count": 149,
   "id": "b8b5f033",
   "metadata": {},
   "outputs": [
    {
     "data": {
      "text/plain": [
       "226"
      ]
     },
     "execution_count": 149,
     "metadata": {},
     "output_type": "execute_result"
    }
   ],
   "source": [
    "part_1_answer(sample_input_3)"
   ]
  },
  {
   "cell_type": "code",
   "execution_count": 150,
   "id": "5e70fff8",
   "metadata": {},
   "outputs": [
    {
     "data": {
      "text/plain": [
       "3713"
      ]
     },
     "execution_count": 150,
     "metadata": {},
     "output_type": "execute_result"
    }
   ],
   "source": [
    "part_1_answer(puzzle_input)"
   ]
  },
  {
   "cell_type": "markdown",
   "id": "b639edb0",
   "metadata": {},
   "source": [
    "## Part 2"
   ]
  },
  {
   "cell_type": "code",
   "execution_count": null,
   "id": "887e1382",
   "metadata": {},
   "outputs": [],
   "source": [
    "def find_nodes_to_ignore(visited_list):\n",
    "\n",
    "    return {x for x in visited_list if not x.isupper() and x not in {'end'}}"
   ]
  },
  {
   "cell_type": "code",
   "execution_count": 159,
   "id": "64299acd",
   "metadata": {},
   "outputs": [],
   "source": [
    "def find_nodes_to_ignore(visited_list):\n",
    "\n",
    "    # if a small cave has been visited twice, lock off all small caves\n",
    "    small_cave_lock = False\n",
    "    for small_cave in [cave for cave in visited_list if not cave.isupper()]:\n",
    "        if visited_list.count(small_cave) > 1:\n",
    "            small_cave_lock = True\n",
    "\n",
    "    if small_cave_lock:\n",
    "        ignore = {x for x in visited_list if not x.isupper() and x not in {'end'}}\n",
    "\n",
    "    # otherwise, allow small caves\n",
    "    else: \n",
    "        ignore = {\n",
    "            node\n",
    "            for node in visited_list\n",
    "            if not node.isupper() and visited_list.count(node) > 1\n",
    "        }\n",
    "\n",
    "    ignore.add('start')\n",
    "\n",
    "    return ignore\n",
    "\n",
    "        "
   ]
  },
  {
   "cell_type": "code",
   "execution_count": 162,
   "id": "281cee8d",
   "metadata": {},
   "outputs": [
    {
     "data": {
      "text/plain": [
       "36"
      ]
     },
     "execution_count": 162,
     "metadata": {},
     "output_type": "execute_result"
    }
   ],
   "source": [
    "part_1_answer(sample_input)"
   ]
  },
  {
   "cell_type": "code",
   "execution_count": 163,
   "id": "df234450",
   "metadata": {},
   "outputs": [
    {
     "data": {
      "text/plain": [
       "103"
      ]
     },
     "execution_count": 163,
     "metadata": {},
     "output_type": "execute_result"
    }
   ],
   "source": [
    "part_1_answer(sample_input_2)"
   ]
  },
  {
   "cell_type": "code",
   "execution_count": 164,
   "id": "6c60dd01",
   "metadata": {},
   "outputs": [
    {
     "data": {
      "text/plain": [
       "3509"
      ]
     },
     "execution_count": 164,
     "metadata": {},
     "output_type": "execute_result"
    }
   ],
   "source": [
    "part_1_answer(sample_input_3)"
   ]
  },
  {
   "cell_type": "code",
   "execution_count": 165,
   "id": "ea9cf9fb",
   "metadata": {},
   "outputs": [
    {
     "data": {
      "text/plain": [
       "91292"
      ]
     },
     "execution_count": 165,
     "metadata": {},
     "output_type": "execute_result"
    }
   ],
   "source": [
    "part_1_answer(puzzle_input)"
   ]
  },
  {
   "cell_type": "code",
   "execution_count": null,
   "id": "2b69f10f",
   "metadata": {},
   "outputs": [],
   "source": []
  }
 ],
 "metadata": {
  "kernelspec": {
   "display_name": "Python 3",
   "language": "python",
   "name": "python3"
  },
  "language_info": {
   "codemirror_mode": {
    "name": "ipython",
    "version": 3
   },
   "file_extension": ".py",
   "mimetype": "text/x-python",
   "name": "python",
   "nbconvert_exporter": "python",
   "pygments_lexer": "ipython3",
   "version": "3.7.6"
  }
 },
 "nbformat": 4,
 "nbformat_minor": 5
}
