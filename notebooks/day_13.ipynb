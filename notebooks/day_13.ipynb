{
 "cells": [
  {
   "cell_type": "code",
   "execution_count": 1,
   "id": "582a7e77",
   "metadata": {},
   "outputs": [],
   "source": [
    "from src.utils import *"
   ]
  },
  {
   "cell_type": "code",
   "execution_count": 2,
   "id": "96f7967a",
   "metadata": {},
   "outputs": [],
   "source": [
    "puzzle_input = parse_puzzle_input(13)"
   ]
  },
  {
   "cell_type": "code",
   "execution_count": 3,
   "id": "7d32e255",
   "metadata": {},
   "outputs": [
    {
     "data": {
      "text/plain": [
       "['1094,19', '751,827', '323,890']"
      ]
     },
     "execution_count": 3,
     "metadata": {},
     "output_type": "execute_result"
    }
   ],
   "source": [
    "puzzle_input[:3]"
   ]
  },
  {
   "cell_type": "code",
   "execution_count": 4,
   "id": "157d01f4",
   "metadata": {},
   "outputs": [],
   "source": [
    "sample_input = [\n",
    "'6,10',\n",
    "'0,14',\n",
    "'9,10',\n",
    "'0,3',\n",
    "'10,4',\n",
    "'4,11',\n",
    "'6,0',\n",
    "'6,12',\n",
    "'4,1',\n",
    "'0,13',\n",
    "'10,12',\n",
    "'3,4',\n",
    "'3,0',\n",
    "'8,4',\n",
    "'1,10',\n",
    "'2,14',\n",
    "'8,10',\n",
    "'9,0',\n",
    "'',\n",
    "'fold along y=7',\n",
    "'fold along x=5'\n",
    "]"
   ]
  },
  {
   "cell_type": "code",
   "execution_count": 31,
   "id": "d82cac16",
   "metadata": {},
   "outputs": [],
   "source": [
    "def parse_instructions(puzzle_input):\n",
    "\n",
    "    x_list = [] # for calculating max x\n",
    "    y_list = [] # ditto max y\n",
    "    dot_list = []\n",
    "    fold_list = []\n",
    "\n",
    "    for line in puzzle_input:\n",
    "        if ',' in line:\n",
    "            x, y = line.split(',')\n",
    "            x_list.append(int(x))\n",
    "            y_list.append(int(y))\n",
    "            dot_list.append((int(x), int(y)))\n",
    "        elif 'fold' in line:\n",
    "            instruction, value = line.split('=')\n",
    "            axis = instruction[-1]\n",
    "            fold_list.append((axis, int(value)))\n",
    "\n",
    "    origami_dict = {}\n",
    "    for x in range(max(x_list) + 1):\n",
    "        for y in range(max(y_list) + 1):\n",
    "            origami_dict[(x, y)] = 0\n",
    "\n",
    "    for dot in dot_list:\n",
    "        origami_dict[dot] = 1\n",
    "\n",
    "    return origami_dict, fold_list\n"
   ]
  },
  {
   "cell_type": "code",
   "execution_count": 43,
   "id": "3c2df496",
   "metadata": {},
   "outputs": [],
   "source": [
    "def find_origami_dict_dimensions(origami_dict):\n",
    "    x_list = []\n",
    "    y_list = []\n",
    "    for coordinate in list(origami_dict.keys()):\n",
    "        x_list.append(coordinate[0])\n",
    "        y_list.append(coordinate[1])\n",
    "\n",
    "    return min(x_list), max(x_list) + 1, min(y_list), max(y_list) + 1"
   ]
  },
  {
   "cell_type": "code",
   "execution_count": 44,
   "id": "51ac107e",
   "metadata": {},
   "outputs": [],
   "source": [
    "def visualise_origami_dict(origami_dict):\n",
    "\n",
    "    min_x, max_x, min_y, max_y = find_origami_dict_dimensions(origami_dict)\n",
    "\n",
    "    for y in range(min_y, max_y):\n",
    "        line = \"\".join('#' if origami_dict[(x, y)] else '.' for x in range(min_x, max_x))\n",
    "        print(line)\n"
   ]
  },
  {
   "cell_type": "code",
   "execution_count": 37,
   "id": "8bad2a93",
   "metadata": {},
   "outputs": [],
   "source": [
    "def axis_to_index(axis):\n",
    "    if axis == 'x':\n",
    "        return 0\n",
    "    return 1"
   ]
  },
  {
   "cell_type": "code",
   "execution_count": 45,
   "id": "497ec420",
   "metadata": {},
   "outputs": [],
   "source": [
    "def split_origami_dict_by_fold(origami_dict, fold):\n",
    "\n",
    "    origami_dict_copy = origami_dict.copy()\n",
    "    axis, fold_value = fold\n",
    "    axis_index = axis_to_index(axis)\n",
    "    dict_1, dict_2 = {}, {}\n",
    "\n",
    "    dict_1 = {k: v for k, v in origami_dict_copy.items() if k[axis_index] < fold_value}\n",
    "    dict_2 = {k: v for k, v in origami_dict_copy.items() if k[axis_index] > fold_value}\n",
    "\n",
    "    return dict_1, dict_2"
   ]
  },
  {
   "cell_type": "code",
   "execution_count": 107,
   "id": "67cdb5b6",
   "metadata": {},
   "outputs": [],
   "source": [
    "def reflect_origami_split(split_origami_dict, fold):\n",
    "\n",
    "    if fold[0] == 'x':\n",
    "        \n",
    "        return {((2 * fold[1]) - k[0], k[1]): v for k, v in split_origami_dict.items()}\n",
    "\n",
    "    return {(k[0], (2 * fold[1]) - k[1]): v for k, v in split_origami_dict.items()}"
   ]
  },
  {
   "cell_type": "code",
   "execution_count": 110,
   "id": "43b7c163",
   "metadata": {},
   "outputs": [],
   "source": [
    "def flatten_origami_dicts(split_1, reflected_split_2):\n",
    "\n",
    "    flattened_dict = {}\n",
    "\n",
    "    for coordinate in split_1:\n",
    "        flattened_dict[coordinate] = split_1[coordinate]\n",
    "        if coordinate in reflected_split_2:\n",
    "            flattened_dict[coordinate] = max(split_1[coordinate], reflected_split_2[coordinate])\n",
    "\n",
    "    return flattened_dict\n",
    "\n",
    " \n"
   ]
  },
  {
   "cell_type": "code",
   "execution_count": 117,
   "id": "f7f15fa9",
   "metadata": {},
   "outputs": [],
   "source": [
    "def fold_origami_dict(origami_dict, fold):\n",
    "\n",
    "    split_1, split_2 = split_origami_dict_by_fold(origami_dict, fold)\n",
    "\n",
    "    reflected_split_2 = reflect_origami_split(split_2, fold)\n",
    "\n",
    "    return flatten_origami_dicts(split_1, reflected_split_2)"
   ]
  },
  {
   "cell_type": "code",
   "execution_count": 72,
   "id": "45d27adc",
   "metadata": {},
   "outputs": [],
   "source": [
    "def count_dots(origami_dict):\n",
    "    return sum(list(origami_dict.values()))"
   ]
  },
  {
   "cell_type": "code",
   "execution_count": 118,
   "id": "ede8b778",
   "metadata": {},
   "outputs": [],
   "source": [
    "def part_1_answer(puzzle_input):\n",
    "\n",
    "    origami_dict, fold_list = parse_instructions(puzzle_input)\n",
    "\n",
    "    origami_dict = fold_origami_dict(origami_dict, fold_list[0])\n",
    "\n",
    "    return count_dots(origami_dict)\n",
    "    "
   ]
  },
  {
   "cell_type": "code",
   "execution_count": 119,
   "id": "75351f63",
   "metadata": {},
   "outputs": [
    {
     "data": {
      "text/plain": [
       "17"
      ]
     },
     "execution_count": 119,
     "metadata": {},
     "output_type": "execute_result"
    }
   ],
   "source": [
    "part_1_answer(sample_input)"
   ]
  },
  {
   "cell_type": "code",
   "execution_count": 120,
   "id": "43b57bce",
   "metadata": {},
   "outputs": [
    {
     "data": {
      "text/plain": [
       "655"
      ]
     },
     "execution_count": 120,
     "metadata": {},
     "output_type": "execute_result"
    }
   ],
   "source": [
    "part_1_answer(puzzle_input)"
   ]
  },
  {
   "cell_type": "markdown",
   "id": "1cb42e80",
   "metadata": {},
   "source": [
    "## Part 2"
   ]
  },
  {
   "cell_type": "code",
   "execution_count": 121,
   "id": "1cbc76b5",
   "metadata": {},
   "outputs": [],
   "source": [
    "def part_2_answer(puzzle_input):\n",
    "\n",
    "    origami_dict, fold_list = parse_instructions(puzzle_input)\n",
    "\n",
    "    for fold in fold_list:\n",
    "\n",
    "        origami_dict = fold_origami_dict(origami_dict, fold)\n",
    "\n",
    "    visualise_origami_dict(origami_dict)"
   ]
  },
  {
   "cell_type": "code",
   "execution_count": 122,
   "id": "eba48f64",
   "metadata": {},
   "outputs": [
    {
     "name": "stdout",
     "output_type": "stream",
     "text": [
      "#####\n",
      "#...#\n",
      "#...#\n",
      "#...#\n",
      "#####\n",
      ".....\n",
      ".....\n"
     ]
    }
   ],
   "source": [
    "part_2_answer(sample_input)"
   ]
  },
  {
   "cell_type": "code",
   "execution_count": 123,
   "id": "7dbc6540",
   "metadata": {},
   "outputs": [
    {
     "name": "stdout",
     "output_type": "stream",
     "text": [
      "..##.###..####..##..#..#..##..#..#.###..\n",
      "...#.#..#....#.#..#.#..#.#..#.#..#.#..#.\n",
      "...#.#..#...#..#....#..#.#..#.#..#.#..#.\n",
      "...#.###...#...#....#..#.####.#..#.###..\n",
      "#..#.#....#....#..#.#..#.#..#.#..#.#.#..\n",
      ".##..#....####..##...##..#..#..##..#..#.\n"
     ]
    }
   ],
   "source": [
    "part_2_answer(puzzle_input)"
   ]
  }
 ],
 "metadata": {
  "kernelspec": {
   "display_name": "Python 3",
   "language": "python",
   "name": "python3"
  },
  "language_info": {
   "codemirror_mode": {
    "name": "ipython",
    "version": 3
   },
   "file_extension": ".py",
   "mimetype": "text/x-python",
   "name": "python",
   "nbconvert_exporter": "python",
   "pygments_lexer": "ipython3",
   "version": "3.7.6"
  }
 },
 "nbformat": 4,
 "nbformat_minor": 5
}
