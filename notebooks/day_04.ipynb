{
 "cells": [
  {
   "cell_type": "code",
   "execution_count": 1,
   "id": "582a7e77",
   "metadata": {},
   "outputs": [],
   "source": [
    "from src.utils import *"
   ]
  },
  {
   "cell_type": "code",
   "execution_count": 2,
   "id": "96f7967a",
   "metadata": {},
   "outputs": [],
   "source": [
    "puzzle_input = parse_puzzle_input(4)"
   ]
  },
  {
   "cell_type": "code",
   "execution_count": 3,
   "id": "7d32e255",
   "metadata": {},
   "outputs": [
    {
     "data": {
      "text/plain": [
       "['17,2,33,86,38,41,4,34,91,61,11,81,3,59,29,71,26,44,54,89,46,9,85,62,23,76,45,24,78,14,58,48,57,40,21,49,7,99,8,56,50,19,53,55,10,94,75,68,6,83,84,88,52,80,73,74,79,36,70,28,37,0,42,98,96,92,27,90,47,20,5,77,69,93,31,30,95,25,63,65,51,72,60,16,12,64,18,13,1,35,15,66,67,43,22,87,97,32,39,82',\n",
       " '',\n",
       " '10 27 53 91 86']"
      ]
     },
     "execution_count": 3,
     "metadata": {},
     "output_type": "execute_result"
    }
   ],
   "source": [
    "puzzle_input[:3]"
   ]
  },
  {
   "cell_type": "code",
   "execution_count": 4,
   "id": "4a8da0bb",
   "metadata": {},
   "outputs": [],
   "source": [
    "sample_input = [\n",
    "'7,4,9,5,11,17,23,2,0,14,21,24,10,16,13,6,15,25,12,22,18,20,8,19,3,26,1',\n",
    "'',\n",
    "'22 13 17 11  0',\n",
    "' 8  2 23  4 24',\n",
    "'21  9 14 16  7',\n",
    "' 6 10  3 18  5',\n",
    "' 1 12 20 15 19',\n",
    "'',\n",
    "' 3 15  0  2 22',\n",
    "' 9 18 13 17  5',\n",
    "'19  8  7 25 23',\n",
    "'20 11 10 24  4',\n",
    "'14 21 16 12  6',\n",
    "'',\n",
    "'14 21 17 24  4',\n",
    "'10 16 15  9 19',\n",
    "'18  8 23 26 20',\n",
    "'22 11 13  6  5',\n",
    "' 2  0 12  3  7'\n",
    "]"
   ]
  },
  {
   "cell_type": "code",
   "execution_count": 5,
   "id": "6cb79a4b",
   "metadata": {},
   "outputs": [],
   "source": [
    "def parse_drawn_order(line_str):\n",
    "    return [int(x) for x in line_str.split(',')]"
   ]
  },
  {
   "cell_type": "code",
   "execution_count": 31,
   "id": "f7b8bf65",
   "metadata": {},
   "outputs": [],
   "source": [
    "def parse_grid(bingo_board_list):\n",
    "    rows = [[int(x.strip()) for x in bingo_row.split()] for bingo_row in bingo_board_list]\n",
    "    col_dict = {k: [] for k in range(len(rows[0]))}\n",
    "    for row in rows:\n",
    "        for index, number in enumerate(row):\n",
    "            col_dict[index].append(number)\n",
    "    row_set = {frozenset(row) for row in rows}\n",
    "    col_set = {frozenset(col) for col in col_dict.values()}\n",
    "    return row_set.union(col_set)\n"
   ]
  },
  {
   "cell_type": "code",
   "execution_count": 33,
   "id": "9a40de1a",
   "metadata": {},
   "outputs": [],
   "source": [
    "def update_bingo_dict(rolling_list, board_index, bingo_dict):\n",
    "    bingo_dict[board_index] = parse_grid(rolling_list)\n",
    "    rolling_list = []\n",
    "    board_index += 1\n",
    "    return rolling_list, board_index, bingo_dict"
   ]
  },
  {
   "cell_type": "code",
   "execution_count": 62,
   "id": "6caf8d45",
   "metadata": {},
   "outputs": [],
   "source": [
    "def parse_bingo_input(puzzle_input):\n",
    "    bingo_dict = {'numbers': parse_drawn_order(puzzle_input[0])}\n",
    "\n",
    "    rolling_list = []\n",
    "    board_index = 0\n",
    "\n",
    "    for input_row in puzzle_input[2:]:\n",
    "        if input_row == '':\n",
    "            rolling_list, board_index, bingo_dict = update_bingo_dict(rolling_list, board_index, bingo_dict)\n",
    "        else:\n",
    "            rolling_list.append(input_row)\n",
    "    rolling_list, board_index, bingo_dict = update_bingo_dict(rolling_list, board_index, bingo_dict)\n",
    "\n",
    "    bingo_dict['n_boards'] = board_index + 1\n",
    "\n",
    "    return bingo_dict\n",
    "        \n"
   ]
  },
  {
   "cell_type": "code",
   "execution_count": 48,
   "id": "77b3e0c7",
   "metadata": {},
   "outputs": [],
   "source": [
    "def check_if_valid_bingo_line(bingo_line, drawn_numbers):\n",
    "    return set(drawn_numbers).issuperset(bingo_line)"
   ]
  },
  {
   "cell_type": "code",
   "execution_count": 49,
   "id": "5ed6700f",
   "metadata": {},
   "outputs": [],
   "source": [
    "def check_if_valid_bingo_board(bingo_board, drawn_numbers):\n",
    "    return bool(\n",
    "        sum(\n",
    "            check_if_valid_bingo_line(bingo_line, drawn_numbers)\n",
    "            for bingo_line in bingo_board\n",
    "        )\n",
    "    )"
   ]
  },
  {
   "cell_type": "code",
   "execution_count": 91,
   "id": "63d3cc9a",
   "metadata": {},
   "outputs": [],
   "source": [
    "def find_winning_board(bingo_dict, drawn_numbers):\n",
    "    bingo = False\n",
    "    for board_index in range(bingo_dict['n_boards'] - 1):\n",
    "        if board_index in bingo_dict:   \n",
    "            if not bingo and check_if_valid_bingo_board(\n",
    "                bingo_dict[board_index], drawn_numbers\n",
    "            ):\n",
    "                bingo = True\n",
    "                bingo_board_id = board_index\n",
    "    if bingo:\n",
    "        return bingo_board_id\n",
    "    return None\n"
   ]
  },
  {
   "cell_type": "code",
   "execution_count": 69,
   "id": "92b5ad46",
   "metadata": {},
   "outputs": [],
   "source": [
    "def get_all_board_numbers(bingo_board):\n",
    "    all_numbers = set()\n",
    "    for line in bingo_board:\n",
    "        for number in line:\n",
    "            all_numbers.add(number)\n",
    "    return all_numbers"
   ]
  },
  {
   "cell_type": "code",
   "execution_count": 77,
   "id": "a943e9f4",
   "metadata": {},
   "outputs": [],
   "source": [
    "def find_winning_board_score(winning_board, drawn_numbers):\n",
    "    all_numbers = get_all_board_numbers(winning_board)\n",
    "    uncalled_numbers = all_numbers.difference(drawn_numbers)\n",
    "    return sum(uncalled_numbers) * drawn_numbers[-1]"
   ]
  },
  {
   "cell_type": "code",
   "execution_count": 121,
   "id": "8c9d91b9",
   "metadata": {},
   "outputs": [],
   "source": [
    "def run_bingo_subsystem(puzzle_input):\n",
    "\n",
    "    bingo_dict = parse_bingo_input(puzzle_input)\n",
    "\n",
    "    bingo = False\n",
    "    drawn_number_index = 4\n",
    "\n",
    "    while not bingo:\n",
    "\n",
    "        drawn_number_index += 1\n",
    "        drawn_numbers = bingo_dict['numbers'][:drawn_number_index]\n",
    "\n",
    "        winning_board_id = find_winning_board(bingo_dict, drawn_numbers)\n",
    "\n",
    "        if winning_board_id is not None:\n",
    "            bingo = True\n",
    "\n",
    "    return find_winning_board_score(bingo_dict[winning_board_id], drawn_numbers)\n",
    "\n",
    "\n"
   ]
  },
  {
   "cell_type": "code",
   "execution_count": 81,
   "id": "425f434b",
   "metadata": {},
   "outputs": [
    {
     "data": {
      "text/plain": [
       "4512"
      ]
     },
     "execution_count": 81,
     "metadata": {},
     "output_type": "execute_result"
    }
   ],
   "source": [
    "run_bingo_subsystem(sample_input)"
   ]
  },
  {
   "cell_type": "code",
   "execution_count": 82,
   "id": "debace61",
   "metadata": {},
   "outputs": [
    {
     "data": {
      "text/plain": [
       "38594"
      ]
     },
     "execution_count": 82,
     "metadata": {},
     "output_type": "execute_result"
    }
   ],
   "source": [
    "run_bingo_subsystem(puzzle_input)"
   ]
  },
  {
   "cell_type": "markdown",
   "id": "b585afc5",
   "metadata": {},
   "source": [
    "## Part 2"
   ]
  },
  {
   "cell_type": "code",
   "execution_count": 141,
   "id": "79009f4f",
   "metadata": {},
   "outputs": [],
   "source": [
    "def find_board_win_order(bingo_dict_input):\n",
    "\n",
    "    bingo_dict = bingo_dict_input.copy()\n",
    "\n",
    "    board_win_order = []\n",
    "\n",
    "    for drawn_number_index in range(5, len(bingo_dict['numbers'])):\n",
    "        drawn_numbers = bingo_dict['numbers'][:drawn_number_index]\n",
    "\n",
    "        winning_board_id = find_winning_board(bingo_dict, drawn_numbers)\n",
    "\n",
    "        while winning_board_id is not None:\n",
    "            board_win_order.append(winning_board_id)\n",
    "            bingo_dict.pop(winning_board_id)\n",
    "            winning_board_id = find_winning_board(bingo_dict, drawn_numbers)\n",
    "\n",
    "    return board_win_order"
   ]
  },
  {
   "cell_type": "code",
   "execution_count": 131,
   "id": "dc0c893f",
   "metadata": {},
   "outputs": [],
   "source": [
    "def find_score_given_board(board_id, bingo_dict):\n",
    "\n",
    "    bingo = False\n",
    "    drawn_number_index = 4\n",
    "\n",
    "    while not bingo:\n",
    "\n",
    "        drawn_number_index += 1\n",
    "        drawn_numbers = bingo_dict['numbers'][:drawn_number_index]\n",
    "\n",
    "        if check_if_valid_bingo_board(bingo_dict[board_id], drawn_numbers):\n",
    "\n",
    "            bingo = True\n",
    "\n",
    "    return find_winning_board_score(bingo_dict[board_id], drawn_numbers)\n",
    "\n"
   ]
  },
  {
   "cell_type": "code",
   "execution_count": 132,
   "id": "82bf133b",
   "metadata": {},
   "outputs": [],
   "source": [
    "def run_sureloss_bingo_subsystem(puzzle_input):\n",
    "\n",
    "    bingo_dict = parse_bingo_input(puzzle_input)\n",
    "\n",
    "    worst_board = find_board_win_order(bingo_dict)[-1]\n",
    "\n",
    "    return find_score_given_board(worst_board, bingo_dict)\n",
    "\n"
   ]
  },
  {
   "cell_type": "code",
   "execution_count": 145,
   "id": "3ee64084",
   "metadata": {},
   "outputs": [
    {
     "data": {
      "text/plain": [
       "1924"
      ]
     },
     "execution_count": 145,
     "metadata": {},
     "output_type": "execute_result"
    }
   ],
   "source": [
    "run_sureloss_bingo_subsystem(sample_input)"
   ]
  },
  {
   "cell_type": "code",
   "execution_count": 146,
   "id": "d549f230",
   "metadata": {},
   "outputs": [
    {
     "data": {
      "text/plain": [
       "21184"
      ]
     },
     "execution_count": 146,
     "metadata": {},
     "output_type": "execute_result"
    }
   ],
   "source": [
    "run_sureloss_bingo_subsystem(puzzle_input)"
   ]
  }
 ],
 "metadata": {
  "kernelspec": {
   "display_name": "Python 3",
   "language": "python",
   "name": "python3"
  },
  "language_info": {
   "codemirror_mode": {
    "name": "ipython",
    "version": 3
   },
   "file_extension": ".py",
   "mimetype": "text/x-python",
   "name": "python",
   "nbconvert_exporter": "python",
   "pygments_lexer": "ipython3",
   "version": "3.7.3"
  }
 },
 "nbformat": 4,
 "nbformat_minor": 5
}
