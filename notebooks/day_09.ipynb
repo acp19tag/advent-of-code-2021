{
 "cells": [
  {
   "cell_type": "code",
   "execution_count": 76,
   "metadata": {},
   "outputs": [],
   "source": [
    "from src.utils import *\n",
    "from math import prod"
   ]
  },
  {
   "cell_type": "code",
   "execution_count": 2,
   "metadata": {},
   "outputs": [],
   "source": [
    "puzzle_input = parse_puzzle_input(9)"
   ]
  },
  {
   "cell_type": "code",
   "execution_count": 3,
   "metadata": {},
   "outputs": [
    {
     "data": {
      "text/plain": [
       "['9234598321279999876543212397634598789843210123456789212999878987556456999878965432459101987654567899',\n",
       " '8965987432367898989864301986545789698765421939697894349876967896432349899769896543598929898763478998',\n",
       " '7896796543458997698765212987676994569865439898989965498765456987321099789858789654987898789854567987']"
      ]
     },
     "execution_count": 3,
     "metadata": {},
     "output_type": "execute_result"
    }
   ],
   "source": [
    "puzzle_input[:3]"
   ]
  },
  {
   "cell_type": "code",
   "execution_count": 4,
   "metadata": {},
   "outputs": [],
   "source": [
    "sample_input = [\n",
    "    '2199943210',\n",
    "    '3987894921',\n",
    "    '9856789892',\n",
    "    '8767896789',\n",
    "    '9899965678'\n",
    "]"
   ]
  },
  {
   "cell_type": "code",
   "execution_count": 22,
   "metadata": {},
   "outputs": [],
   "source": [
    "def generate_smoke_dict(puzzle_input):\n",
    "    \n",
    "    smoke_dict = {}\n",
    "    \n",
    "    for y, row in enumerate(puzzle_input):\n",
    "        \n",
    "        for x, height in enumerate(row):\n",
    "            \n",
    "            smoke_dict[(x, y)] = int(height)\n",
    "    \n",
    "    return smoke_dict\n",
    "        "
   ]
  },
  {
   "cell_type": "code",
   "execution_count": 8,
   "metadata": {},
   "outputs": [],
   "source": [
    "def find_coordinate_neighbours(coordinate_tuple):\n",
    "    x, y = coordinate_tuple\n",
    "    \n",
    "    return [\n",
    "        (x + 1, y),\n",
    "        (x - 1, y),\n",
    "        (x, y + 1),\n",
    "        (x, y - 1)\n",
    "    ]"
   ]
  },
  {
   "cell_type": "code",
   "execution_count": 37,
   "metadata": {},
   "outputs": [],
   "source": [
    "def check_low_point(coordinate_tuple, smoke_dict):\n",
    "    \n",
    "    low_point = True\n",
    "    \n",
    "    for neighbour_tuple in find_coordinate_neighbours(coordinate_tuple):\n",
    "        \n",
    "        if neighbour_tuple in smoke_dict:\n",
    "            \n",
    "            if smoke_dict[neighbour_tuple] <= smoke_dict[coordinate_tuple]:\n",
    "                \n",
    "                low_point = False\n",
    "    \n",
    "    return low_point\n",
    "            "
   ]
  },
  {
   "cell_type": "code",
   "execution_count": 10,
   "metadata": {},
   "outputs": [],
   "source": [
    "def find_all_low_points(smoke_dict):\n",
    "    \n",
    "    low_point_tuple_list = []\n",
    "    \n",
    "    for coordinate_tuple in smoke_dict:\n",
    "        \n",
    "        if check_low_point(coordinate_tuple, smoke_dict):\n",
    "            \n",
    "            low_point_tuple_list.append(coordinate_tuple)\n",
    "            \n",
    "    return low_point_tuple_list"
   ]
  },
  {
   "cell_type": "code",
   "execution_count": 24,
   "metadata": {},
   "outputs": [],
   "source": [
    "def find_risk_level(coordinate_tuple, smoke_dict):\n",
    "    \n",
    "    return smoke_dict[coordinate_tuple] + 1"
   ]
  },
  {
   "cell_type": "code",
   "execution_count": 25,
   "metadata": {},
   "outputs": [],
   "source": [
    "def part_1_answer(puzzle_input):\n",
    "    \n",
    "    smoke_dict = generate_smoke_dict(puzzle_input)\n",
    "    \n",
    "    low_point_list = find_all_low_points(smoke_dict)\n",
    "    \n",
    "    return sum([find_risk_level(coordinate_tuple, smoke_dict) for coordinate_tuple in low_point_list])"
   ]
  },
  {
   "cell_type": "code",
   "execution_count": 38,
   "metadata": {},
   "outputs": [
    {
     "data": {
      "text/plain": [
       "15"
      ]
     },
     "execution_count": 38,
     "metadata": {},
     "output_type": "execute_result"
    }
   ],
   "source": [
    "part_1_answer(sample_input)"
   ]
  },
  {
   "cell_type": "code",
   "execution_count": 39,
   "metadata": {},
   "outputs": [
    {
     "data": {
      "text/plain": [
       "478"
      ]
     },
     "execution_count": 39,
     "metadata": {},
     "output_type": "execute_result"
    }
   ],
   "source": [
    "part_1_answer(puzzle_input)"
   ]
  },
  {
   "cell_type": "markdown",
   "metadata": {},
   "source": [
    "## Part 2"
   ]
  },
  {
   "cell_type": "code",
   "execution_count": 46,
   "metadata": {},
   "outputs": [],
   "source": [
    "def find_basin_tuples(coordinate_tuple, smoke_dict, basin_tuple_set=set()):\n",
    "    \n",
    "    basin_tuple_set.add(coordinate_tuple)\n",
    "    \n",
    "    for neighbour in find_coordinate_neighbours(coordinate_tuple):\n",
    "        \n",
    "        if neighbour in smoke_dict:\n",
    "            \n",
    "            if smoke_dict[neighbour] < 9 and neighbour not in basin_tuple_set:\n",
    "                \n",
    "                basin_tuple_set = find_basin_tuples(neighbour, smoke_dict, basin_tuple_set)\n",
    "    \n",
    "    return basin_tuple_set"
   ]
  },
  {
   "cell_type": "code",
   "execution_count": 77,
   "metadata": {},
   "outputs": [],
   "source": [
    "def part_2_answer(puzzle_input):\n",
    "    \n",
    "    smoke_dict = generate_smoke_dict(puzzle_input)\n",
    "    \n",
    "    low_point_list = find_all_low_points(smoke_dict)\n",
    "    \n",
    "    basin_size_list = [len(find_basin_tuples(low_point, smoke_dict, basin_tuple_set = set())) for low_point in low_point_list]\n",
    "    \n",
    "    return prod(sorted(basin_size_list)[-3:])"
   ]
  },
  {
   "cell_type": "code",
   "execution_count": 78,
   "metadata": {},
   "outputs": [
    {
     "data": {
      "text/plain": [
       "1134"
      ]
     },
     "execution_count": 78,
     "metadata": {},
     "output_type": "execute_result"
    }
   ],
   "source": [
    "part_2_answer(sample_input)"
   ]
  },
  {
   "cell_type": "code",
   "execution_count": 79,
   "metadata": {},
   "outputs": [
    {
     "data": {
      "text/plain": [
       "1327014"
      ]
     },
     "execution_count": 79,
     "metadata": {},
     "output_type": "execute_result"
    }
   ],
   "source": [
    "part_2_answer(puzzle_input)"
   ]
  }
 ],
 "metadata": {
  "kernelspec": {
   "display_name": "Python 3",
   "language": "python",
   "name": "python3"
  },
  "language_info": {
   "codemirror_mode": {
    "name": "ipython",
    "version": 3
   },
   "file_extension": ".py",
   "mimetype": "text/x-python",
   "name": "python",
   "nbconvert_exporter": "python",
   "pygments_lexer": "ipython3",
   "version": "3.8.0"
  }
 },
 "nbformat": 4,
 "nbformat_minor": 5
}
