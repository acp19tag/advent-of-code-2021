{
 "cells": [
  {
   "cell_type": "code",
   "execution_count": 1,
   "id": "582a7e77",
   "metadata": {},
   "outputs": [],
   "source": [
    "from src.utils import *"
   ]
  },
  {
   "cell_type": "code",
   "execution_count": 2,
   "id": "96f7967a",
   "metadata": {},
   "outputs": [],
   "source": [
    "puzzle_input = parse_puzzle_input(8)"
   ]
  },
  {
   "cell_type": "code",
   "execution_count": 3,
   "id": "7d32e255",
   "metadata": {},
   "outputs": [
    {
     "data": {
      "text/plain": [
       "['fdceba bafdgc abeg afbdgec gbeacd abced bgc fcdge bg bedgc | bafdec cgefd gcebd ebcgd',\n",
       " 'gbfac fegbda fcedagb bea ea abcdef dgbfe gfabe dgea gbdfec | gdea bgefdc bea efdbg',\n",
       " 'eg dagef gbcfeda ageb cegbfd gfe dbefa facdg abfged cedbaf | befda daefb egf gcdfa']"
      ]
     },
     "execution_count": 3,
     "metadata": {},
     "output_type": "execute_result"
    }
   ],
   "source": [
    "puzzle_input[:3]"
   ]
  },
  {
   "cell_type": "code",
   "execution_count": 5,
   "id": "886f421e",
   "metadata": {},
   "outputs": [],
   "source": [
    "sample_input = [\n",
    "'be cfbegad cbdgef fgaecd cgeb fdcge agebfd fecdb fabcd edb | fdgacbe cefdb cefbgd gcbe',\n",
    "'edbfga begcd cbg gc gcadebf fbgde acbgfd abcde gfcbed gfec | fcgedb cgb dgebacf gc',\n",
    "'fgaebd cg bdaec gdafb agbcfd gdcbef bgcad gfac gcb cdgabef | cg cg fdcagb cbg',\n",
    "'fbegcd cbd adcefb dageb afcb bc aefdc ecdab fgdeca fcdbega | efabcd cedba gadfec cb',\n",
    "'aecbfdg fbg gf bafeg dbefa fcge gcbea fcaegb dgceab fcbdga | gecf egdcabf bgf bfgea',\n",
    "'fgeab ca afcebg bdacfeg cfaedg gcfdb baec bfadeg bafgc acf | gebdcfa ecba ca fadegcb',\n",
    "'dbcfg fgd bdegcaf fgec aegbdf ecdfab fbedc dacgb gdcebf gf | cefg dcbef fcge gbcadfe',\n",
    "'bdfegc cbegaf gecbf dfcage bdacg ed bedf ced adcbefg gebcd | ed bcgafe cdgba cbgef',\n",
    "'egadfb cdbfeg cegd fecab cgb gbdefca cg fgcdab egfdb bfceg | gbdfcae bgc cg cgb',\n",
    "'gcafb gcf dcaebfg ecagb gf abcdeg gaef cafbge fdbac fegbdc | fgae cfgab fg bagce'\n",
    "]"
   ]
  },
  {
   "cell_type": "code",
   "execution_count": 4,
   "id": "000ac58d",
   "metadata": {},
   "outputs": [],
   "source": [
    "def parse_signal_pattern_line(line_str):\n",
    "\n",
    "    unique_signal_patterns_str, output_value_str = line_str.split('|')\n",
    "\n",
    "    return (\n",
    "        [x.strip() for x in unique_signal_patterns_str.split()],\n",
    "        [x.strip() for x in output_value_str.split()]\n",
    "    )\n",
    "        \n"
   ]
  },
  {
   "cell_type": "code",
   "execution_count": 8,
   "id": "8c8ace1f",
   "metadata": {},
   "outputs": [],
   "source": [
    "def pattern_line_to_dict(pattern_line_tuple):\n",
    "\n",
    "    return {\n",
    "        \"unique signal patterns\": pattern_line_tuple[0],\n",
    "        \"output value\": pattern_line_tuple[1]\n",
    "    }"
   ]
  },
  {
   "cell_type": "code",
   "execution_count": 12,
   "id": "3f0593b4",
   "metadata": {},
   "outputs": [],
   "source": [
    "def output_value_count(pattern_line_dict, lens_to_count):\n",
    "    \n",
    "    output_value_lens = [len(x) for x in pattern_line_dict[\"output value\"]]\n",
    "\n",
    "    return len([x for x in output_value_lens if x in lens_to_count])\n",
    "\n"
   ]
  },
  {
   "cell_type": "code",
   "execution_count": 13,
   "id": "0789d063",
   "metadata": {},
   "outputs": [],
   "source": [
    "def part_1_answer(puzzle_input):\n",
    "\n",
    "    count = 0\n",
    "\n",
    "    for line_str in puzzle_input:\n",
    "\n",
    "        signal_pattern_tuple = parse_signal_pattern_line(line_str)\n",
    "\n",
    "        pattern_line_dict = pattern_line_to_dict(signal_pattern_tuple)\n",
    "\n",
    "        count += output_value_count(pattern_line_dict, lens_to_count={2, 3, 4, 7})\n",
    "\n",
    "    return count"
   ]
  },
  {
   "cell_type": "code",
   "execution_count": 14,
   "id": "32fab42e",
   "metadata": {},
   "outputs": [
    {
     "data": {
      "text/plain": [
       "26"
      ]
     },
     "execution_count": 14,
     "metadata": {},
     "output_type": "execute_result"
    }
   ],
   "source": [
    "part_1_answer(sample_input)"
   ]
  },
  {
   "cell_type": "code",
   "execution_count": 15,
   "id": "58728cfe",
   "metadata": {},
   "outputs": [
    {
     "data": {
      "text/plain": [
       "255"
      ]
     },
     "execution_count": 15,
     "metadata": {},
     "output_type": "execute_result"
    }
   ],
   "source": [
    "part_1_answer(puzzle_input)"
   ]
  },
  {
   "cell_type": "markdown",
   "id": "e9550b68",
   "metadata": {},
   "source": [
    "## Part 2"
   ]
  },
  {
   "cell_type": "code",
   "execution_count": 33,
   "id": "5643630e",
   "metadata": {},
   "outputs": [],
   "source": [
    "def count_letters_in_signal_patterns(patterns):\n",
    "    letters = 'abcdefg'\n",
    "    count_dict = {letter: 0 for letter in letters}\n",
    "    for letter in letters:\n",
    "        for pattern in patterns:\n",
    "            if letter in pattern: \n",
    "                count_dict[letter] += 1\n",
    "    return {v: k for k, v in count_dict.items()}"
   ]
  },
  {
   "cell_type": "code",
   "execution_count": 34,
   "id": "45735034",
   "metadata": {},
   "outputs": [],
   "source": [
    "def find_encoded_number_dict(patterns):\n",
    "\n",
    "    len_dict = {len(pattern): pattern for pattern in patterns}\n",
    "    \n",
    "    return {\n",
    "        1: len_dict[2],\n",
    "        4: len_dict[4],\n",
    "        7: len_dict[3],\n",
    "        8: len_dict[7]\n",
    "    }"
   ]
  },
  {
   "cell_type": "code",
   "execution_count": 40,
   "id": "78c80ce0",
   "metadata": {},
   "outputs": [],
   "source": [
    "def find_letters_in_pattern(letters_list, pattern):\n",
    "    return all(letter in pattern for letter in letters_list)"
   ]
  },
  {
   "cell_type": "code",
   "execution_count": 86,
   "id": "fec823b1",
   "metadata": {},
   "outputs": [],
   "source": [
    "def find_encoded_0(abcef_list, pattern_list):\n",
    "    for pattern in pattern_list:\n",
    "        if find_letters_in_pattern(abcef_list, pattern) and len(pattern) == 6:\n",
    "            return pattern\n",
    "    return None"
   ]
  },
  {
   "cell_type": "code",
   "execution_count": 45,
   "id": "54aba560",
   "metadata": {},
   "outputs": [],
   "source": [
    "def decode_pattern_line(pattern_line_dict):\n",
    "\n",
    "    patterns = pattern_line_dict['unique signal patterns']\n",
    "\n",
    "    letter_counts = count_letters_in_signal_patterns(patterns)\n",
    "    encoded_number_dict = find_encoded_number_dict(patterns)\n",
    "\n",
    "    # find b (appears exactly 6 times in pattern line)\n",
    "\n",
    "    b = letter_counts[6]\n",
    "\n",
    "    # find e (appears exactly 4 times in pattern line)\n",
    "\n",
    "    e = letter_counts[4]\n",
    "\n",
    "    # find f (appears exactly 9 times in pattern line)\n",
    "\n",
    "    f = letter_counts[9]\n",
    "\n",
    "    # find c (appears in 1 and isn't f)\n",
    "\n",
    "    c = [letter for letter in encoded_number_dict[1] if letter not in f][0]\n",
    "\n",
    "    # find a (appears in 7 and isn't c or f)\n",
    "\n",
    "    a = [letter for letter in encoded_number_dict[7] if letter not in {f, c}][0]\n",
    "\n",
    "    # find g (is the only extra in 0 which contains befca)\n",
    "\n",
    "    encoded_0 = find_encoded_0([a,b,c,e,f], patterns)\n",
    "    g = [letter for letter in encoded_0 if letter not in {a,b,c,e,f}][0]\n",
    "\n",
    "    # find d (last one)\n",
    "    d = [letter for letter in 'abcdefg' if letter not in {a,b,c,e,f,g}][0]\n",
    "\n",
    "    return {\n",
    "        a: 'a',\n",
    "        b: 'b',\n",
    "        c: 'c',\n",
    "        d: 'd',\n",
    "        e: 'e',\n",
    "        f: 'f',\n",
    "        g: 'g',\n",
    "    }\n",
    "\n"
   ]
  },
  {
   "cell_type": "code",
   "execution_count": 52,
   "id": "c31685cf",
   "metadata": {},
   "outputs": [],
   "source": [
    "def decode_number(encoded_number, decode_key):\n",
    "    decoded_letter_list = tuple(sorted([decode_key[letter] for letter in encoded_number]))\n",
    "\n",
    "    decoded_number_dict = {\n",
    "        ('a', 'b', 'c', 'e', 'f', 'g'):         0,\n",
    "        ('c', 'f'):                             1,\n",
    "        ('a', 'c', 'd', 'e', 'g'):              2,\n",
    "        ('a', 'c', 'd', 'f', 'g'):              3,\n",
    "        ('b', 'c', 'd', 'f'):                   4,\n",
    "        ('a', 'b', 'd', 'f', 'g'):              5,\n",
    "        ('a', 'b', 'd', 'e', 'f', 'g'):         6,\n",
    "        ('a', 'c', 'f'):                        7,\n",
    "        ('a', 'b', 'c', 'd', 'e', 'f', 'g'):    8,\n",
    "        ('a', 'b', 'c', 'd', 'f', 'g'):         9\n",
    "    }\n",
    "\n",
    "    return decoded_number_dict[decoded_letter_list]"
   ]
  },
  {
   "cell_type": "code",
   "execution_count": 89,
   "id": "b4667762",
   "metadata": {},
   "outputs": [],
   "source": [
    "def decode_4_digit_number(pattern_dict):\n",
    "\n",
    "    decode_key = decode_pattern_line(pattern_dict)\n",
    "\n",
    "    decoded_number_str = ''.join([str(decode_number(encoded_number, decode_key)) for encoded_number in pattern_dict['output value']])\n",
    "\n",
    "    return int(decoded_number_str)"
   ]
  },
  {
   "cell_type": "code",
   "execution_count": 96,
   "id": "5e289439",
   "metadata": {},
   "outputs": [],
   "source": [
    "def part_2_answer(puzzle_input):\n",
    "\n",
    "    sum = 0\n",
    "\n",
    "    for line_str in puzzle_input:\n",
    "\n",
    "        signal_pattern_tuple = parse_signal_pattern_line(line_str)\n",
    "\n",
    "        pattern_line_dict = pattern_line_to_dict(signal_pattern_tuple)\n",
    "\n",
    "        sum += decode_4_digit_number(pattern_line_dict)\n",
    "\n",
    "    return sum"
   ]
  },
  {
   "cell_type": "code",
   "execution_count": 98,
   "id": "08a3e6bc",
   "metadata": {},
   "outputs": [
    {
     "data": {
      "text/plain": [
       "61229"
      ]
     },
     "execution_count": 98,
     "metadata": {},
     "output_type": "execute_result"
    }
   ],
   "source": [
    "part_2_answer(sample_input)"
   ]
  },
  {
   "cell_type": "code",
   "execution_count": 99,
   "id": "25306355",
   "metadata": {},
   "outputs": [
    {
     "data": {
      "text/plain": [
       "982158"
      ]
     },
     "execution_count": 99,
     "metadata": {},
     "output_type": "execute_result"
    }
   ],
   "source": [
    "part_2_answer(puzzle_input)"
   ]
  }
 ],
 "metadata": {
  "kernelspec": {
   "display_name": "Python 3",
   "language": "python",
   "name": "python3"
  },
  "language_info": {
   "codemirror_mode": {
    "name": "ipython",
    "version": 3
   },
   "file_extension": ".py",
   "mimetype": "text/x-python",
   "name": "python",
   "nbconvert_exporter": "python",
   "pygments_lexer": "ipython3",
   "version": "3.8.10"
  }
 },
 "nbformat": 4,
 "nbformat_minor": 5
}
