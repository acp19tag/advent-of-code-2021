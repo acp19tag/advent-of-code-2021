{
 "cells": [
  {
   "cell_type": "code",
   "execution_count": 12,
   "id": "582a7e77",
   "metadata": {},
   "outputs": [],
   "source": [
    "from src.utils import *\n",
    "from statistics import median"
   ]
  },
  {
   "cell_type": "code",
   "execution_count": 2,
   "id": "96f7967a",
   "metadata": {},
   "outputs": [],
   "source": [
    "puzzle_input = parse_puzzle_input(7)"
   ]
  },
  {
   "cell_type": "code",
   "execution_count": 3,
   "id": "7d32e255",
   "metadata": {},
   "outputs": [],
   "source": [
    "puzzle_input = puzzle_input[0]"
   ]
  },
  {
   "cell_type": "code",
   "execution_count": 4,
   "id": "d4a5c3ab",
   "metadata": {},
   "outputs": [
    {
     "data": {
      "text/plain": [
       "'1101,1,29,'"
      ]
     },
     "execution_count": 4,
     "metadata": {},
     "output_type": "execute_result"
    }
   ],
   "source": [
    "puzzle_input[:10]"
   ]
  },
  {
   "cell_type": "code",
   "execution_count": 5,
   "id": "463d8bb9",
   "metadata": {},
   "outputs": [],
   "source": [
    "sample_input = '16,1,2,0,4,2,7,1,2,14'"
   ]
  },
  {
   "cell_type": "code",
   "execution_count": 6,
   "id": "632a934f",
   "metadata": {},
   "outputs": [],
   "source": [
    "def parse_horizontal_position_str(input_str):\n",
    "    return [int(x) for x in input_str.split(',')]"
   ]
  },
  {
   "cell_type": "code",
   "execution_count": 16,
   "id": "a923ca63",
   "metadata": {},
   "outputs": [],
   "source": [
    "def calculate_fuel_cost(aligned_position, horizontal_positions):\n",
    "    return sum(\n",
    "        abs(position - aligned_position) for position in horizontal_positions\n",
    "    )\n"
   ]
  },
  {
   "cell_type": "code",
   "execution_count": 19,
   "id": "6f1f9c19",
   "metadata": {},
   "outputs": [],
   "source": [
    "def find_cheaper_direction(aligned_position, horizontal_positions):\n",
    "\n",
    "    fuel_cost = calculate_fuel_cost(aligned_position, horizontal_positions)\n",
    "\n",
    "    if calculate_fuel_cost(aligned_position + 1, horizontal_positions) < fuel_cost:\n",
    "        return 1\n",
    "    \n",
    "    elif calculate_fuel_cost(aligned_position - 1, horizontal_positions) < fuel_cost:\n",
    "        return -1\n",
    "\n",
    "    return 0"
   ]
  },
  {
   "cell_type": "code",
   "execution_count": 23,
   "id": "d639af64",
   "metadata": {},
   "outputs": [],
   "source": [
    "def find_cheapest_aligned_position(horizontal_positions):\n",
    "\n",
    "    # start at the median\n",
    "    aligned_position = median(horizontal_positions)\n",
    "    fuel_cost = calculate_fuel_cost(aligned_position, horizontal_positions)\n",
    "\n",
    "    while find_cheaper_direction(aligned_position, horizontal_positions):\n",
    "\n",
    "        aligned_position += 1 * find_cheaper_direction(aligned_position, horizontal_positions)\n",
    "\n",
    "    return aligned_position"
   ]
  },
  {
   "cell_type": "code",
   "execution_count": 28,
   "id": "ffbe8e2b",
   "metadata": {},
   "outputs": [],
   "source": [
    "def part_1_answer(puzzle_input):\n",
    "\n",
    "    horizontal_positions = parse_horizontal_position_str(puzzle_input)\n",
    "\n",
    "    aligned_position = find_cheapest_aligned_position(horizontal_positions)\n",
    "\n",
    "    return int(calculate_fuel_cost(aligned_position, horizontal_positions))"
   ]
  },
  {
   "cell_type": "code",
   "execution_count": 29,
   "id": "a1faaac5",
   "metadata": {},
   "outputs": [
    {
     "data": {
      "text/plain": [
       "37"
      ]
     },
     "execution_count": 29,
     "metadata": {},
     "output_type": "execute_result"
    }
   ],
   "source": [
    "part_1_answer(sample_input)"
   ]
  },
  {
   "cell_type": "code",
   "execution_count": 30,
   "id": "08f569f4",
   "metadata": {},
   "outputs": [
    {
     "data": {
      "text/plain": [
       "340056"
      ]
     },
     "execution_count": 30,
     "metadata": {},
     "output_type": "execute_result"
    }
   ],
   "source": [
    "part_1_answer(puzzle_input)"
   ]
  },
  {
   "cell_type": "markdown",
   "id": "f3272d10",
   "metadata": {},
   "source": [
    "## Part 2"
   ]
  },
  {
   "cell_type": "code",
   "execution_count": 37,
   "id": "1918465e",
   "metadata": {},
   "outputs": [],
   "source": [
    "def calculate_fuel_cost(aligned_position, horizontal_positions):\n",
    "    \"\"\" revised for part 2 \"\"\"\n",
    "    return sum(\n",
    "        sum(range(int(abs(position - aligned_position)+1))) for position in horizontal_positions\n",
    "    )\n"
   ]
  },
  {
   "cell_type": "code",
   "execution_count": 38,
   "id": "c1bad46d",
   "metadata": {},
   "outputs": [
    {
     "data": {
      "text/plain": [
       "168"
      ]
     },
     "execution_count": 38,
     "metadata": {},
     "output_type": "execute_result"
    }
   ],
   "source": [
    "part_1_answer(sample_input)"
   ]
  },
  {
   "cell_type": "code",
   "execution_count": 39,
   "id": "c9f80a96",
   "metadata": {},
   "outputs": [
    {
     "data": {
      "text/plain": [
       "96592275"
      ]
     },
     "execution_count": 39,
     "metadata": {},
     "output_type": "execute_result"
    }
   ],
   "source": [
    "part_1_answer(puzzle_input)"
   ]
  }
 ],
 "metadata": {
  "kernelspec": {
   "display_name": "Python 3",
   "language": "python",
   "name": "python3"
  },
  "language_info": {
   "codemirror_mode": {
    "name": "ipython",
    "version": 3
   },
   "file_extension": ".py",
   "mimetype": "text/x-python",
   "name": "python",
   "nbconvert_exporter": "python",
   "pygments_lexer": "ipython3",
   "version": "3.8.10"
  }
 },
 "nbformat": 4,
 "nbformat_minor": 5
}
