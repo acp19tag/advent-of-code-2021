{
 "cells": [
  {
   "cell_type": "code",
   "execution_count": 1,
   "id": "582a7e77",
   "metadata": {},
   "outputs": [],
   "source": [
    "from src.utils import *"
   ]
  },
  {
   "cell_type": "code",
   "execution_count": 2,
   "id": "96f7967a",
   "metadata": {},
   "outputs": [],
   "source": [
    "puzzle_input = parse_puzzle_input(2)"
   ]
  },
  {
   "cell_type": "code",
   "execution_count": 3,
   "id": "7d32e255",
   "metadata": {},
   "outputs": [
    {
     "data": {
      "text/plain": [
       "['forward 8', 'down 9', 'up 1']"
      ]
     },
     "execution_count": 3,
     "metadata": {},
     "output_type": "execute_result"
    }
   ],
   "source": [
    "puzzle_input[:3]"
   ]
  },
  {
   "cell_type": "code",
   "execution_count": 12,
   "id": "4ac9c8af",
   "metadata": {},
   "outputs": [],
   "source": [
    "sample_input = [\n",
    "    'forward 5',\n",
    "    'down 5',\n",
    "    'forward 8',\n",
    "    'up 3',\n",
    "    'down 8',\n",
    "    'forward 2'\n",
    "]"
   ]
  },
  {
   "cell_type": "markdown",
   "id": "aad92886",
   "metadata": {},
   "source": [
    "*Note*:\n",
    "\n",
    "\n",
    "minecraft rules for co-ordinates.\n",
    "\n",
    "\n",
    "z axis: north-south (forwards/backwards)\n",
    "\n",
    "x axis: east-west (right/left)\n",
    "\n",
    "y axis: down-up (GOING DOWN INCREASES Y)"
   ]
  },
  {
   "cell_type": "code",
   "execution_count": 15,
   "id": "b7a821e6",
   "metadata": {},
   "outputs": [],
   "source": [
    "direction_dict = {\n",
    "    \"forward\": (\"z\", 1),\n",
    "    # backward goes here\n",
    "    \"up\": (\"y\", -1),\n",
    "    \"down\": (\"y\", 1)\n",
    "}"
   ]
  },
  {
   "cell_type": "code",
   "execution_count": 10,
   "id": "3f67b3c7",
   "metadata": {},
   "outputs": [],
   "source": [
    "def parse_command(command, direction_dict):\n",
    "    direction, value = command.split()\n",
    "    axis, multiplier = direction_dict[direction]\n",
    "    return axis, float(value) * multiplier"
   ]
  },
  {
   "cell_type": "code",
   "execution_count": 11,
   "id": "e5b35afb",
   "metadata": {},
   "outputs": [
    {
     "data": {
      "text/plain": [
       "('z', 5.0)"
      ]
     },
     "execution_count": 11,
     "metadata": {},
     "output_type": "execute_result"
    }
   ],
   "source": [
    "parse_command(\"forward 5\", direction_dict)"
   ]
  },
  {
   "cell_type": "code",
   "execution_count": 16,
   "id": "6147d132",
   "metadata": {},
   "outputs": [],
   "source": [
    "def get_final_position(input, direction_dict):\n",
    "    position_dict = {k: 0 for k in ['x', 'y', 'z']}\n",
    "    for command in input:\n",
    "        axis, value = parse_command(command, direction_dict)\n",
    "        position_dict[axis] += value\n",
    "    return position_dict"
   ]
  },
  {
   "cell_type": "code",
   "execution_count": 17,
   "id": "77da35d4",
   "metadata": {},
   "outputs": [
    {
     "data": {
      "text/plain": [
       "{'x': 0, 'y': 10.0, 'z': 15.0}"
      ]
     },
     "execution_count": 17,
     "metadata": {},
     "output_type": "execute_result"
    }
   ],
   "source": [
    "get_final_position(sample_input, direction_dict)"
   ]
  },
  {
   "cell_type": "code",
   "execution_count": 18,
   "id": "7e8dda7d",
   "metadata": {},
   "outputs": [],
   "source": [
    "def multiply_horizontal_depth(position_dict):\n",
    "    return position_dict['y'] * position_dict['z']"
   ]
  },
  {
   "cell_type": "code",
   "execution_count": 19,
   "id": "dfea3fe5",
   "metadata": {},
   "outputs": [
    {
     "data": {
      "text/plain": [
       "150.0"
      ]
     },
     "execution_count": 19,
     "metadata": {},
     "output_type": "execute_result"
    }
   ],
   "source": [
    "multiply_horizontal_depth(\n",
    "    get_final_position(\n",
    "        sample_input, direction_dict\n",
    "        )\n",
    "    )"
   ]
  },
  {
   "cell_type": "code",
   "execution_count": 20,
   "id": "a9032bd7",
   "metadata": {},
   "outputs": [
    {
     "data": {
      "text/plain": [
       "1488669.0"
      ]
     },
     "execution_count": 20,
     "metadata": {},
     "output_type": "execute_result"
    }
   ],
   "source": [
    "multiply_horizontal_depth(\n",
    "    get_final_position(\n",
    "        puzzle_input, direction_dict\n",
    "        )\n",
    "    )"
   ]
  },
  {
   "cell_type": "markdown",
   "id": "412f65ce",
   "metadata": {},
   "source": [
    "## Part 2"
   ]
  },
  {
   "cell_type": "code",
   "execution_count": 21,
   "id": "ea1c7103",
   "metadata": {},
   "outputs": [],
   "source": [
    "direction_dict = {\n",
    "    \"down\": {\n",
    "        \"horizontal\": 0,\n",
    "        \"aim\": 1\n",
    "    },\n",
    "    \"up\": {\n",
    "        \"horizontal\": 0,\n",
    "        \"aim\": -1\n",
    "    },\n",
    "    \"forward\": {\n",
    "        \"horizontal\": 1,\n",
    "        \"aim\": 0\n",
    "    }\n",
    "}"
   ]
  },
  {
   "cell_type": "code",
   "execution_count": 22,
   "id": "4108c5c6",
   "metadata": {},
   "outputs": [],
   "source": [
    "def create_empty_position_dict():\n",
    "    return {k: 0 for k in [\"horizontal\", \"depth\", \"aim\"]}"
   ]
  },
  {
   "cell_type": "code",
   "execution_count": 24,
   "id": "2ea2b3bd",
   "metadata": {},
   "outputs": [],
   "source": [
    "def parse_command(command, position_dict, direction_dict):\n",
    "    \"\"\" updated \"\"\"\n",
    "    direction, value = command.split()\n",
    "    value = float(value)\n",
    "\n",
    "    for aspect in direction_dict[direction]:\n",
    "        position_dict[aspect] += direction_dict[direction][aspect] * value\n",
    "\n",
    "    if direction == \"forward\": \n",
    "        position_dict[\"depth\"] += position_dict[\"aim\"] * value\n",
    "\n",
    "    return position_dict\n"
   ]
  },
  {
   "cell_type": "code",
   "execution_count": 25,
   "id": "eacca21e",
   "metadata": {},
   "outputs": [],
   "source": [
    "def get_final_position(input, direction_dict):\n",
    "\n",
    "    position_dict = create_empty_position_dict()\n",
    "\n",
    "    for command in input:\n",
    "\n",
    "        position_dict = parse_command(command, position_dict, direction_dict)\n",
    "\n",
    "    return position_dict"
   ]
  },
  {
   "cell_type": "code",
   "execution_count": 29,
   "id": "5a78fa14",
   "metadata": {},
   "outputs": [],
   "source": [
    "def multiply_horizontal_depth(position_dict):\n",
    "    return position_dict['horizontal'] * position_dict['depth']"
   ]
  },
  {
   "cell_type": "code",
   "execution_count": 30,
   "id": "12411d54",
   "metadata": {},
   "outputs": [
    {
     "data": {
      "text/plain": [
       "900.0"
      ]
     },
     "execution_count": 30,
     "metadata": {},
     "output_type": "execute_result"
    }
   ],
   "source": [
    "multiply_horizontal_depth(\n",
    "    get_final_position(\n",
    "        sample_input, direction_dict\n",
    "        )\n",
    "    )"
   ]
  },
  {
   "cell_type": "code",
   "execution_count": 31,
   "id": "fd5d4fd5",
   "metadata": {},
   "outputs": [
    {
     "data": {
      "text/plain": [
       "1176514794.0"
      ]
     },
     "execution_count": 31,
     "metadata": {},
     "output_type": "execute_result"
    }
   ],
   "source": [
    "multiply_horizontal_depth(\n",
    "    get_final_position(\n",
    "        puzzle_input, direction_dict\n",
    "        )\n",
    "    )"
   ]
  },
  {
   "cell_type": "code",
   "execution_count": null,
   "id": "7ac13235",
   "metadata": {},
   "outputs": [],
   "source": []
  }
 ],
 "metadata": {
  "kernelspec": {
   "display_name": "Python 3",
   "language": "python",
   "name": "python3"
  },
  "language_info": {
   "codemirror_mode": {
    "name": "ipython",
    "version": 3
   },
   "file_extension": ".py",
   "mimetype": "text/x-python",
   "name": "python",
   "nbconvert_exporter": "python",
   "pygments_lexer": "ipython3",
   "version": "3.7.3"
  }
 },
 "nbformat": 4,
 "nbformat_minor": 5
}
