{
 "cells": [
  {
   "cell_type": "code",
   "execution_count": 84,
   "id": "582a7e77",
   "metadata": {},
   "outputs": [],
   "source": [
    "from src.utils import *\n",
    "from collections import Counter\n",
    "from math import ceil"
   ]
  },
  {
   "cell_type": "code",
   "execution_count": 2,
   "id": "96f7967a",
   "metadata": {},
   "outputs": [],
   "source": [
    "puzzle_input = parse_puzzle_input(14)"
   ]
  },
  {
   "cell_type": "code",
   "execution_count": 3,
   "id": "7d32e255",
   "metadata": {},
   "outputs": [
    {
     "data": {
      "text/plain": [
       "['HHKONSOSONSVOFCSCNBC', '', 'OO -> N']"
      ]
     },
     "execution_count": 3,
     "metadata": {},
     "output_type": "execute_result"
    }
   ],
   "source": [
    "puzzle_input[:3]"
   ]
  },
  {
   "cell_type": "code",
   "execution_count": 4,
   "id": "be946ef7",
   "metadata": {},
   "outputs": [],
   "source": [
    "sample_input = [\n",
    "    'NNCB',\n",
    "    '',\n",
    "    'CH -> B',\n",
    "    'HH -> N',\n",
    "    'CB -> H',\n",
    "    'NH -> C',\n",
    "    'HB -> C',\n",
    "    'HC -> B',\n",
    "    'HN -> C',\n",
    "    'NN -> C',\n",
    "    'BH -> H',\n",
    "    'NC -> B',\n",
    "    'NB -> B',\n",
    "    'BN -> B',\n",
    "    'BB -> N',\n",
    "    'BC -> B',\n",
    "    'CC -> N',\n",
    "    'CN -> C'\n",
    "]"
   ]
  },
  {
   "cell_type": "code",
   "execution_count": 5,
   "id": "2d565c87",
   "metadata": {},
   "outputs": [],
   "source": [
    "def parse_polymer_info(puzzle_input):\n",
    "\n",
    "    polymer_template = puzzle_input[0]\n",
    "\n",
    "    pair_insertion_dict = {}\n",
    "    for line in puzzle_input[2:]:\n",
    "        key, value = line.split(' -> ')\n",
    "        pair_insertion_dict[key] = value\n",
    "\n",
    "    return pair_insertion_dict, polymer_template"
   ]
  },
  {
   "cell_type": "code",
   "execution_count": 8,
   "id": "6b300887",
   "metadata": {},
   "outputs": [],
   "source": [
    "def split_template_to_pairs(template):\n",
    "    return [\n",
    "        template[index - 1] + template[index]\n",
    "        for index in range(1, len(template))\n",
    "    ]"
   ]
  },
  {
   "cell_type": "code",
   "execution_count": 11,
   "id": "6584b333",
   "metadata": {},
   "outputs": [],
   "source": [
    "def generate_insertion_list(pair_list, pair_insertion_dict):\n",
    "\n",
    "    insertion_list = []\n",
    "    for pair in pair_list:\n",
    "        if pair not in pair_insertion_dict:\n",
    "            insertion_list.append(None)\n",
    "        else:\n",
    "            insertion_list.append(pair_insertion_dict[pair])\n",
    "\n",
    "    return insertion_list\n",
    "\n",
    "    \n"
   ]
  },
  {
   "cell_type": "code",
   "execution_count": 30,
   "id": "9e46aad6",
   "metadata": {},
   "outputs": [],
   "source": [
    "def insert_polymers(template, insertion_list):\n",
    "    new_polymer = ''\n",
    "\n",
    "    for index in range(len(template)):\n",
    "        new_polymer += template[index]\n",
    "        if index < len(insertion_list) and insertion_list[index]:\n",
    "            new_polymer += insertion_list[index]\n",
    "    return new_polymer"
   ]
  },
  {
   "cell_type": "code",
   "execution_count": 13,
   "id": "4ea72055",
   "metadata": {},
   "outputs": [],
   "source": [
    "def simulate_step(polymer, pair_insertion_dict):\n",
    "\n",
    "    pair_list = split_template_to_pairs(polymer)\n",
    "\n",
    "    insertion_list = generate_insertion_list(pair_list, pair_insertion_dict)\n",
    "\n",
    "    return insert_polymers(polymer, insertion_list)\n",
    "\n"
   ]
  },
  {
   "cell_type": "code",
   "execution_count": 22,
   "id": "5de67ead",
   "metadata": {},
   "outputs": [],
   "source": [
    "def part_1_answer(puzzle_input, steps):\n",
    "\n",
    "    pair_insertion_dict, polymer = parse_polymer_info(puzzle_input)\n",
    "\n",
    "    for _ in range(steps + 1):\n",
    "\n",
    "        polymer = simulate_step(polymer, pair_insertion_dict)\n",
    "\n",
    "    count_chars = Counter(polymer)\n",
    "\n",
    "    return count_chars.most_common()[0][1] - count_chars.most_common()[-1][1]\n"
   ]
  },
  {
   "cell_type": "code",
   "execution_count": 32,
   "id": "7d4b59ee",
   "metadata": {},
   "outputs": [
    {
     "data": {
      "text/plain": [
       "1588"
      ]
     },
     "execution_count": 32,
     "metadata": {},
     "output_type": "execute_result"
    }
   ],
   "source": [
    "part_1_answer(sample_input, 10)"
   ]
  },
  {
   "cell_type": "code",
   "execution_count": 33,
   "id": "43aa0a02",
   "metadata": {},
   "outputs": [
    {
     "data": {
      "text/plain": [
       "2657"
      ]
     },
     "execution_count": 33,
     "metadata": {},
     "output_type": "execute_result"
    }
   ],
   "source": [
    "part_1_answer(puzzle_input, 10)"
   ]
  },
  {
   "cell_type": "markdown",
   "id": "918a6e37",
   "metadata": {},
   "source": [
    "## Part 2"
   ]
  },
  {
   "cell_type": "code",
   "execution_count": 46,
   "id": "b3eefb9a",
   "metadata": {},
   "outputs": [],
   "source": [
    "def template_to_dict(template):\n",
    "\n",
    "    pairs = split_template_to_pairs(template)\n",
    "\n",
    "    pair_dict = {}\n",
    "    for pair in pairs: \n",
    "        if pair not in pair_dict:\n",
    "            pair_dict[pair] = 1\n",
    "        else:\n",
    "            pair_dict[pair] += 1\n",
    "    return pair_dict"
   ]
  },
  {
   "cell_type": "code",
   "execution_count": 79,
   "id": "7738216e",
   "metadata": {},
   "outputs": [],
   "source": [
    "def parse_polymer_info(puzzle_input):\n",
    "\n",
    "    polymer_template = puzzle_input[0]\n",
    "\n",
    "    pair_insertion_dict = {}\n",
    "    for line in puzzle_input[2:]:\n",
    "        key, value = line.split(' -> ')\n",
    "\n",
    "        pair_insertion_dict[key] = {key[0] + value, value + key[1]}\n",
    "\n",
    "    return pair_insertion_dict, template_to_dict(polymer_template)"
   ]
  },
  {
   "cell_type": "code",
   "execution_count": 139,
   "id": "5f63bb3f",
   "metadata": {},
   "outputs": [],
   "source": [
    "def simulate_step(pair_dict, pair_insertion_dict):\n",
    "\n",
    "    new_pair_dict = {}\n",
    "\n",
    "    for pair in pair_dict:\n",
    "\n",
    "        for new_pair in pair_insertion_dict[pair]:\n",
    "\n",
    "            if new_pair not in new_pair_dict:\n",
    "                new_pair_dict[new_pair] = pair_dict[pair]\n",
    "            else:\n",
    "                new_pair_dict[new_pair] += pair_dict[pair]\n",
    "\n",
    "    return new_pair_dict"
   ]
  },
  {
   "cell_type": "code",
   "execution_count": 152,
   "id": "341ec808",
   "metadata": {},
   "outputs": [],
   "source": [
    "def char_counter(pair_dict):\n",
    "    counter_dict = {}\n",
    "    for pair in pair_dict:\n",
    "        for character in pair:\n",
    "            if character not in counter_dict:\n",
    "                counter_dict[character] = pair_dict[pair] / 2\n",
    "            else:\n",
    "                counter_dict[character] += pair_dict[pair] / 2\n",
    "    # add an extra N and B to the end\n",
    "    for character in {'N', 'B'}:\n",
    "        if character not in counter_dict:\n",
    "            counter_dict[character] = 1\n",
    "        else:\n",
    "            counter_dict[character] = int(counter_dict[character]) + 1\n",
    "\n",
    "    return counter_dict"
   ]
  },
  {
   "cell_type": "code",
   "execution_count": 156,
   "id": "61e52ce9",
   "metadata": {},
   "outputs": [],
   "source": [
    "def part_2_answer(puzzle_input, steps):\n",
    "\n",
    "    pair_insertion_dict, polymer_dict = parse_polymer_info(puzzle_input)\n",
    "\n",
    "    for _ in range(steps):\n",
    "\n",
    "        polymer_dict = simulate_step(polymer_dict, pair_insertion_dict)\n",
    "\n",
    "    count_chars = Counter(char_counter(polymer_dict))\n",
    "\n",
    "    # return count_chars\n",
    "\n",
    "    return int(count_chars.most_common()[0][1] - count_chars.most_common()[-1][1])\n"
   ]
  },
  {
   "cell_type": "code",
   "execution_count": 157,
   "id": "d41f25a3",
   "metadata": {},
   "outputs": [
    {
     "data": {
      "text/plain": [
       "2188189693529"
      ]
     },
     "execution_count": 157,
     "metadata": {},
     "output_type": "execute_result"
    }
   ],
   "source": [
    "part_2_answer(sample_input, 40)"
   ]
  },
  {
   "cell_type": "code",
   "execution_count": 158,
   "id": "e322cf37",
   "metadata": {},
   "outputs": [
    {
     "data": {
      "text/plain": [
       "2911561572630"
      ]
     },
     "execution_count": 158,
     "metadata": {},
     "output_type": "execute_result"
    }
   ],
   "source": [
    "part_2_answer(puzzle_input, 40)"
   ]
  }
 ],
 "metadata": {
  "kernelspec": {
   "display_name": "Python 3",
   "language": "python",
   "name": "python3"
  },
  "language_info": {
   "codemirror_mode": {
    "name": "ipython",
    "version": 3
   },
   "file_extension": ".py",
   "mimetype": "text/x-python",
   "name": "python",
   "nbconvert_exporter": "python",
   "pygments_lexer": "ipython3",
   "version": "3.7.4"
  }
 },
 "nbformat": 4,
 "nbformat_minor": 5
}
