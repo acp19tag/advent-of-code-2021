{
 "cells": [
  {
   "cell_type": "code",
   "execution_count": 5,
   "id": "582a7e77",
   "metadata": {},
   "outputs": [],
   "source": [
    "from src.utils import *\n",
    "import re"
   ]
  },
  {
   "cell_type": "code",
   "execution_count": 2,
   "id": "96f7967a",
   "metadata": {},
   "outputs": [],
   "source": [
    "puzzle_input = parse_puzzle_input(5)"
   ]
  },
  {
   "cell_type": "code",
   "execution_count": 3,
   "id": "7d32e255",
   "metadata": {},
   "outputs": [
    {
     "data": {
      "text/plain": [
       "['959,103 -> 139,923', '899,63 -> 899,53', '591,871 -> 364,644']"
      ]
     },
     "execution_count": 3,
     "metadata": {},
     "output_type": "execute_result"
    }
   ],
   "source": [
    "puzzle_input[:3]"
   ]
  },
  {
   "cell_type": "code",
   "execution_count": 4,
   "id": "51118716",
   "metadata": {},
   "outputs": [],
   "source": [
    "sample_input = [\n",
    "    '0,9 -> 5,9',\n",
    "    '8,0 -> 0,8',\n",
    "    '9,4 -> 3,4',\n",
    "    '2,2 -> 2,1',\n",
    "    '7,0 -> 7,4',\n",
    "    '6,4 -> 2,0',\n",
    "    '0,9 -> 2,9',\n",
    "    '3,4 -> 1,4',\n",
    "    '0,0 -> 8,8',\n",
    "    '5,5 -> 8,2'\n",
    "]"
   ]
  },
  {
   "cell_type": "code",
   "execution_count": 10,
   "id": "1f1f8b22",
   "metadata": {},
   "outputs": [],
   "source": [
    "def line_to_coordinates(line_str):\n",
    "    pattern = '([0-9]+),([0-9]+) -> ([0-9]+),([0-9]+)'\n",
    "    re_search = re.search(pattern, line_str)\n",
    "    x1 = re_search.group(1)\n",
    "    y1 = re_search.group(2)\n",
    "    x2 = re_search.group(3)\n",
    "    y2 = re_search.group(4)\n",
    "    return int(x1), int(y1), int(x2), int(y2)"
   ]
  },
  {
   "cell_type": "code",
   "execution_count": 14,
   "id": "53e4bcbd",
   "metadata": {},
   "outputs": [],
   "source": [
    "def check_horizontal_or_vertical(x1, y1, x2, y2):\n",
    "    return x1 == x2 or y1 == y2"
   ]
  },
  {
   "cell_type": "code",
   "execution_count": 15,
   "id": "2aba4a13",
   "metadata": {},
   "outputs": [],
   "source": [
    "def get_line_set(puzzle_input, ignore_non_vertical=True):\n",
    "    line_set = set()\n",
    "    for line_str in puzzle_input:\n",
    "        x1, y1, x2, y2 = line_to_coordinates(line_str)\n",
    "        if not ignore_non_vertical or check_horizontal_or_vertical(x1, y1, x2, y2):\n",
    "            line_set.add((x1, y1, x2, y2))\n",
    "\n",
    "    return line_set\n"
   ]
  },
  {
   "cell_type": "code",
   "execution_count": 29,
   "id": "ef25340e",
   "metadata": {},
   "outputs": [],
   "source": [
    "def find_line_ranges(line_set):\n",
    "    x_values = [line[0] for line in line_set]\n",
    "    x_values.extend([line[2] for line in line_set])\n",
    "\n",
    "    y_values = [line[1] for line in line_set]\n",
    "    y_values.extend([line[3] for line in line_set])\n",
    "    \n",
    "    return min(x_values), max(x_values), min(y_values), max(y_values)\n"
   ]
  },
  {
   "cell_type": "code",
   "execution_count": 35,
   "id": "984d466c",
   "metadata": {},
   "outputs": [],
   "source": [
    "def create_coordinate_dict(min_x, max_x, min_y, max_y):\n",
    "    coordinate_list = []\n",
    "    for x in range(min_x, max_x + 1):\n",
    "        for y in range(min_y, max_y + 1):\n",
    "            coordinate_list.append((x, y))\n",
    "    return {coordinate: 0 for coordinate in coordinate_list}"
   ]
  },
  {
   "cell_type": "code",
   "execution_count": 37,
   "id": "81e18e69",
   "metadata": {},
   "outputs": [],
   "source": [
    "def find_coordinates_to_update(x1, y1, x2, y2):\n",
    "    coordinates_to_update = []\n",
    "    for x in range(min(x1, x2), max(x1, x2) + 1):\n",
    "        for y in range(min(y1, y2), max(y1, y2) + 1):\n",
    "            coordinates_to_update.append((x, y))\n",
    "    return coordinates_to_update"
   ]
  },
  {
   "cell_type": "code",
   "execution_count": 40,
   "id": "67bb24f9",
   "metadata": {},
   "outputs": [],
   "source": [
    "def update_coordinate_dict(x1, y1, x2, y2, coordinate_dict):\n",
    "\n",
    "    for coordinate in find_coordinates_to_update(x1, y1, x2, y2):\n",
    "        coordinate_dict[coordinate] += 1\n",
    "\n",
    "    return coordinate_dict"
   ]
  },
  {
   "cell_type": "code",
   "execution_count": 41,
   "id": "05a022df",
   "metadata": {},
   "outputs": [],
   "source": [
    "def get_final_coordinate_dict(line_set):\n",
    "\n",
    "    min_x, max_x, min_y, max_y = find_line_ranges(line_set)\n",
    "\n",
    "    coordinate_dict = create_coordinate_dict(min_x, max_x, min_y, max_y)\n",
    "\n",
    "    for line in line_set:\n",
    "        x1, y1, x2, y2 = line\n",
    "        coordinate_dict = update_coordinate_dict(x1, y1, x2, y2, coordinate_dict)\n",
    "\n",
    "    return coordinate_dict"
   ]
  },
  {
   "cell_type": "code",
   "execution_count": 49,
   "id": "e6d01ec9",
   "metadata": {},
   "outputs": [],
   "source": [
    "def count_overlap(coordinate_dict, min_overlap = 2):\n",
    "\n",
    "    return len([x for x in coordinate_dict.values() if x >= min_overlap])"
   ]
  },
  {
   "cell_type": "code",
   "execution_count": 50,
   "id": "8b7d41a9",
   "metadata": {},
   "outputs": [],
   "source": [
    "def count_hydrothermal_vents(puzzle_input, ignore_non_vertical=True, min_overlap = 2):\n",
    "\n",
    "    line_set = get_line_set(puzzle_input, ignore_non_vertical)\n",
    "    \n",
    "    coordinate_dict = get_final_coordinate_dict(line_set)\n",
    "\n",
    "    return count_overlap(coordinate_dict, min_overlap)"
   ]
  },
  {
   "cell_type": "code",
   "execution_count": 51,
   "id": "27c46b84",
   "metadata": {},
   "outputs": [
    {
     "data": {
      "text/plain": [
       "5"
      ]
     },
     "execution_count": 51,
     "metadata": {},
     "output_type": "execute_result"
    }
   ],
   "source": [
    "count_hydrothermal_vents(sample_input)"
   ]
  },
  {
   "cell_type": "code",
   "execution_count": 52,
   "id": "7dd2d696",
   "metadata": {},
   "outputs": [
    {
     "data": {
      "text/plain": [
       "7318"
      ]
     },
     "execution_count": 52,
     "metadata": {},
     "output_type": "execute_result"
    }
   ],
   "source": [
    "count_hydrothermal_vents(puzzle_input)"
   ]
  },
  {
   "cell_type": "markdown",
   "id": "0e29a7c0",
   "metadata": {},
   "source": [
    "## Part 2"
   ]
  },
  {
   "cell_type": "code",
   "execution_count": 58,
   "id": "5db66fee",
   "metadata": {},
   "outputs": [],
   "source": [
    "def find_direction(a, b):\n",
    "    if a > b:\n",
    "        return -1\n",
    "    elif a < b: \n",
    "        return 1\n",
    "    return 0"
   ]
  },
  {
   "cell_type": "code",
   "execution_count": 62,
   "id": "393f06ec",
   "metadata": {},
   "outputs": [],
   "source": [
    "def find_coordinates_to_update(x1, y1, x2, y2):\n",
    "    coordinates_to_update = []\n",
    "\n",
    "    if check_horizontal_or_vertical(x1, y1, x2, y2):\n",
    "        for x in range(min(x1, x2), max(x1, x2) + 1):\n",
    "            for y in range(min(y1, y2), max(y1, y2) + 1):\n",
    "                coordinates_to_update.append((x, y))\n",
    "\n",
    "    else: \n",
    "        x_direction = find_direction(x1, x2)\n",
    "        y_direction = find_direction(y1, y2)\n",
    "\n",
    "        coordinates_to_update = list(\n",
    "            zip(\n",
    "                range(x1, x2 + x_direction, x_direction),\n",
    "                range(y1, y2 + y_direction, y_direction)\n",
    "            )\n",
    "        )\n",
    "\n",
    "    return coordinates_to_update"
   ]
  },
  {
   "cell_type": "code",
   "execution_count": 63,
   "id": "dec847c8",
   "metadata": {},
   "outputs": [
    {
     "data": {
      "text/plain": [
       "12"
      ]
     },
     "execution_count": 63,
     "metadata": {},
     "output_type": "execute_result"
    }
   ],
   "source": [
    "count_hydrothermal_vents(sample_input, ignore_non_vertical=False)"
   ]
  },
  {
   "cell_type": "code",
   "execution_count": 64,
   "id": "25773303",
   "metadata": {},
   "outputs": [
    {
     "data": {
      "text/plain": [
       "19939"
      ]
     },
     "execution_count": 64,
     "metadata": {},
     "output_type": "execute_result"
    }
   ],
   "source": [
    "count_hydrothermal_vents(puzzle_input, ignore_non_vertical=False)"
   ]
  }
 ],
 "metadata": {
  "kernelspec": {
   "display_name": "Python 3",
   "language": "python",
   "name": "python3"
  },
  "language_info": {
   "codemirror_mode": {
    "name": "ipython",
    "version": 3
   },
   "file_extension": ".py",
   "mimetype": "text/x-python",
   "name": "python",
   "nbconvert_exporter": "python",
   "pygments_lexer": "ipython3",
   "version": "3.7.3"
  }
 },
 "nbformat": 4,
 "nbformat_minor": 5
}
